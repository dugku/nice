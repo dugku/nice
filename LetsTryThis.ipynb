{
 "cells": [
  {
   "cell_type": "code",
   "id": "initial_id",
   "metadata": {
    "collapsed": true,
    "ExecuteTime": {
     "end_time": "2024-11-19T17:46:39.257785Z",
     "start_time": "2024-11-19T17:46:37.710049Z"
    }
   },
   "source": [
    "from random import sample\n",
    "\n",
    "import pandas as pd\n",
    "import polars as pl\n",
    "import seaborn as sns"
   ],
   "outputs": [],
   "execution_count": 105
  },
  {
   "metadata": {},
   "cell_type": "markdown",
   "source": "Sometimes this shit just doesn't make <strong> sense </strong>",
   "id": "f159c4758ee83bd"
  },
  {
   "metadata": {
    "ExecuteTime": {
     "end_time": "2024-11-19T15:06:07.886308Z",
     "start_time": "2024-11-19T15:06:02.811833Z"
    }
   },
   "cell_type": "code",
   "source": [
    "df = pl.read_csv(\"./Dat/il_statewide_2020_04_01.csv\", ignore_errors=True)\n",
    "df"
   ],
   "id": "745bff041d2fabfd",
   "outputs": [
    {
     "data": {
      "text/plain": [
       "shape: (12_748_173, 29)\n",
       "┌────────────┬───────────┬──────────┬──────────┬───┬───────────┬───────────┬───────────┬───────────┐\n",
       "│ raw_row_nu ┆ date      ┆ time     ┆ location ┆ … ┆ raw_Drive ┆ raw_Reaso ┆ raw_TypeO ┆ raw_Resul │\n",
       "│ mber       ┆ ---       ┆ ---      ┆ ---      ┆   ┆ rRace     ┆ nForStop  ┆ fMovingVi ┆ tOfStop   │\n",
       "│ ---        ┆ str       ┆ str      ┆ str      ┆   ┆ ---       ┆ ---       ┆ olation   ┆ ---       │\n",
       "│ i64        ┆           ┆          ┆          ┆   ┆ i64       ┆ i64       ┆ ---       ┆ i64       │\n",
       "│            ┆           ┆          ┆          ┆   ┆           ┆           ┆ i64       ┆           │\n",
       "╞════════════╪═══════════╪══════════╪══════════╪═══╪═══════════╪═══════════╪═══════════╪═══════════╡\n",
       "│ 1          ┆ 2012-09-1 ┆ 10:20:00 ┆ 60641    ┆ … ┆ 4         ┆ 1         ┆ 4         ┆ 1         │\n",
       "│            ┆ 5         ┆          ┆          ┆   ┆           ┆           ┆           ┆           │\n",
       "│ 2          ┆ 2012-09-1 ┆ 10:20:00 ┆ 60189    ┆ … ┆ 1         ┆ 1         ┆ 2         ┆ 1         │\n",
       "│            ┆ 5         ┆          ┆          ┆   ┆           ┆           ┆           ┆           │\n",
       "│ 3          ┆ 2012-09-1 ┆ 10:20:00 ┆ 60638    ┆ … ┆ 4         ┆ 1         ┆ 6         ┆ 1         │\n",
       "│            ┆ 5         ┆          ┆          ┆   ┆           ┆           ┆           ┆           │\n",
       "│ 4          ┆ 2012-09-1 ┆ 10:20:00 ┆ 60638    ┆ … ┆ 1         ┆ 1         ┆ 6         ┆ 1         │\n",
       "│            ┆ 5         ┆          ┆          ┆   ┆           ┆           ┆           ┆           │\n",
       "│ 5          ┆ 2012-09-1 ┆ 10:21:00 ┆ NA       ┆ … ┆ 2         ┆ 1         ┆ 6         ┆ 1         │\n",
       "│            ┆ 5         ┆          ┆          ┆   ┆           ┆           ┆           ┆           │\n",
       "│ …          ┆ …         ┆ …        ┆ …        ┆ … ┆ …         ┆ …         ┆ …         ┆ …         │\n",
       "│ 12748169   ┆ 2017-11-2 ┆ 15:44:00 ┆ 60085    ┆ … ┆ 4         ┆ 1         ┆ 4         ┆ 1         │\n",
       "│            ┆ 9         ┆          ┆          ┆   ┆           ┆           ┆           ┆           │\n",
       "│ 12748170   ┆ 2017-11-2 ┆ 17:11:00 ┆ 60099    ┆ … ┆ 4         ┆ 3         ┆ 0         ┆ 1         │\n",
       "│            ┆ 9         ┆          ┆          ┆   ┆           ┆           ┆           ┆           │\n",
       "│ 12748171   ┆ 2017-11-3 ┆ 17:40:00 ┆ 60099    ┆ … ┆ 4         ┆ 1         ┆ 6         ┆ 1         │\n",
       "│            ┆ 0         ┆          ┆          ┆   ┆           ┆           ┆           ┆           │\n",
       "│ 12748172   ┆ 2017-11-3 ┆ 19:29:00 ┆ 60096    ┆ … ┆ 1         ┆ 3         ┆ 0         ┆ 1         │\n",
       "│            ┆ 0         ┆          ┆          ┆   ┆           ┆           ┆           ┆           │\n",
       "│ 12748173   ┆ 2017-11-3 ┆ 21:28:00 ┆ 60099    ┆ … ┆ 2         ┆ 3         ┆ 0         ┆ 1         │\n",
       "│            ┆ 0         ┆          ┆          ┆   ┆           ┆           ┆           ┆           │\n",
       "└────────────┴───────────┴──────────┴──────────┴───┴───────────┴───────────┴───────────┴───────────┘"
      ],
      "text/html": [
       "<div><style>\n",
       ".dataframe > thead > tr,\n",
       ".dataframe > tbody > tr {\n",
       "  text-align: right;\n",
       "  white-space: pre-wrap;\n",
       "}\n",
       "</style>\n",
       "<small>shape: (12_748_173, 29)</small><table border=\"1\" class=\"dataframe\"><thead><tr><th>raw_row_number</th><th>date</th><th>time</th><th>location</th><th>beat</th><th>subject_age</th><th>subject_race</th><th>subject_sex</th><th>department_id</th><th>department_name</th><th>type</th><th>violation</th><th>citation_issued</th><th>warning_issued</th><th>outcome</th><th>contraband_found</th><th>contraband_drugs</th><th>contraband_weapons</th><th>search_conducted</th><th>search_person</th><th>search_vehicle</th><th>search_basis</th><th>reason_for_stop</th><th>vehicle_make</th><th>vehicle_year</th><th>raw_DriverRace</th><th>raw_ReasonForStop</th><th>raw_TypeOfMovingViolation</th><th>raw_ResultOfStop</th></tr><tr><td>i64</td><td>str</td><td>str</td><td>str</td><td>i64</td><td>str</td><td>str</td><td>str</td><td>i64</td><td>str</td><td>str</td><td>str</td><td>bool</td><td>bool</td><td>str</td><td>str</td><td>str</td><td>str</td><td>bool</td><td>bool</td><td>bool</td><td>str</td><td>str</td><td>str</td><td>i64</td><td>i64</td><td>i64</td><td>i64</td><td>i64</td></tr></thead><tbody><tr><td>1</td><td>&quot;2012-09-15&quot;</td><td>&quot;10:20:00&quot;</td><td>&quot;60641&quot;</td><td>1611</td><td>&quot;NA&quot;</td><td>&quot;hispanic&quot;</td><td>&quot;male&quot;</td><td>13194</td><td>&quot;CHICAGO POLICE&quot;</td><td>&quot;vehicular&quot;</td><td>&quot;Moving Violation: Traffic Sign…</td><td>true</td><td>false</td><td>&quot;citation&quot;</td><td>&quot;NA&quot;</td><td>&quot;NA&quot;</td><td>&quot;NA&quot;</td><td>false</td><td>false</td><td>false</td><td>&quot;NA&quot;</td><td>&quot;Moving Violation: Traffic Sign…</td><td>&quot;CHRYSLER&quot;</td><td>2004</td><td>4</td><td>1</td><td>4</td><td>1</td></tr><tr><td>2</td><td>&quot;2012-09-15&quot;</td><td>&quot;10:20:00&quot;</td><td>&quot;60189&quot;</td><td>1912</td><td>&quot;NA&quot;</td><td>&quot;white&quot;</td><td>&quot;female&quot;</td><td>13194</td><td>&quot;CHICAGO POLICE&quot;</td><td>&quot;vehicular&quot;</td><td>&quot;Moving Violation: Lane Violati…</td><td>true</td><td>false</td><td>&quot;citation&quot;</td><td>&quot;NA&quot;</td><td>&quot;NA&quot;</td><td>&quot;NA&quot;</td><td>false</td><td>false</td><td>false</td><td>&quot;NA&quot;</td><td>&quot;Moving Violation: Lane Violati…</td><td>&quot;LEXUS&quot;</td><td>1999</td><td>1</td><td>1</td><td>2</td><td>1</td></tr><tr><td>3</td><td>&quot;2012-09-15&quot;</td><td>&quot;10:20:00&quot;</td><td>&quot;60638&quot;</td><td>815</td><td>&quot;NA&quot;</td><td>&quot;hispanic&quot;</td><td>&quot;female&quot;</td><td>13194</td><td>&quot;CHICAGO POLICE&quot;</td><td>&quot;vehicular&quot;</td><td>&quot;Moving Violation: Other&quot;</td><td>true</td><td>false</td><td>&quot;citation&quot;</td><td>&quot;NA&quot;</td><td>&quot;NA&quot;</td><td>&quot;NA&quot;</td><td>false</td><td>false</td><td>false</td><td>&quot;NA&quot;</td><td>&quot;Moving Violation: Other&quot;</td><td>&quot;WHITE GMC (BEGIN. MODEL YEAR 1…</td><td>2010</td><td>4</td><td>1</td><td>6</td><td>1</td></tr><tr><td>4</td><td>&quot;2012-09-15&quot;</td><td>&quot;10:20:00&quot;</td><td>&quot;60638&quot;</td><td>925</td><td>&quot;NA&quot;</td><td>&quot;white&quot;</td><td>&quot;male&quot;</td><td>13194</td><td>&quot;CHICAGO POLICE&quot;</td><td>&quot;vehicular&quot;</td><td>&quot;Moving Violation: Other&quot;</td><td>true</td><td>false</td><td>&quot;citation&quot;</td><td>&quot;NA&quot;</td><td>&quot;NA&quot;</td><td>&quot;NA&quot;</td><td>false</td><td>false</td><td>false</td><td>&quot;NA&quot;</td><td>&quot;Moving Violation: Other&quot;</td><td>&quot;CHEVROLET&quot;</td><td>2008</td><td>1</td><td>1</td><td>6</td><td>1</td></tr><tr><td>5</td><td>&quot;2012-09-15&quot;</td><td>&quot;10:21:00&quot;</td><td>&quot;NA&quot;</td><td>2032</td><td>&quot;NA&quot;</td><td>&quot;black&quot;</td><td>&quot;male&quot;</td><td>13194</td><td>&quot;CHICAGO POLICE&quot;</td><td>&quot;vehicular&quot;</td><td>&quot;Moving Violation: Other&quot;</td><td>true</td><td>false</td><td>&quot;citation&quot;</td><td>&quot;NA&quot;</td><td>&quot;NA&quot;</td><td>&quot;NA&quot;</td><td>false</td><td>false</td><td>false</td><td>&quot;NA&quot;</td><td>&quot;Moving Violation: Other&quot;</td><td>&quot;DODGE&quot;</td><td>2007</td><td>2</td><td>1</td><td>6</td><td>1</td></tr><tr><td>&hellip;</td><td>&hellip;</td><td>&hellip;</td><td>&hellip;</td><td>&hellip;</td><td>&hellip;</td><td>&hellip;</td><td>&hellip;</td><td>&hellip;</td><td>&hellip;</td><td>&hellip;</td><td>&hellip;</td><td>&hellip;</td><td>&hellip;</td><td>&hellip;</td><td>&hellip;</td><td>&hellip;</td><td>&hellip;</td><td>&hellip;</td><td>&hellip;</td><td>&hellip;</td><td>&hellip;</td><td>&hellip;</td><td>&hellip;</td><td>&hellip;</td><td>&hellip;</td><td>&hellip;</td><td>&hellip;</td><td>&hellip;</td></tr><tr><td>12748169</td><td>&quot;2017-11-29&quot;</td><td>&quot;15:44:00&quot;</td><td>&quot;60085&quot;</td><td>null</td><td>&quot;NA&quot;</td><td>&quot;hispanic&quot;</td><td>&quot;male&quot;</td><td>13501</td><td>&quot;ZION POLICE&quot;</td><td>&quot;vehicular&quot;</td><td>&quot;Moving Violation: Traffic Sign…</td><td>true</td><td>false</td><td>&quot;citation&quot;</td><td>&quot;FALSE&quot;</td><td>&quot;FALSE&quot;</td><td>&quot;FALSE&quot;</td><td>true</td><td>true</td><td>true</td><td>&quot;NA&quot;</td><td>&quot;Moving Violation: Traffic Sign…</td><td>&quot;MITS&quot;</td><td>2005</td><td>4</td><td>1</td><td>4</td><td>1</td></tr><tr><td>12748170</td><td>&quot;2017-11-29&quot;</td><td>&quot;17:11:00&quot;</td><td>&quot;60099&quot;</td><td>null</td><td>&quot;NA&quot;</td><td>&quot;hispanic&quot;</td><td>&quot;female&quot;</td><td>13501</td><td>&quot;ZION POLICE&quot;</td><td>&quot;vehicular&quot;</td><td>&quot;License Plate/Registration&quot;</td><td>true</td><td>false</td><td>&quot;citation&quot;</td><td>&quot;NA&quot;</td><td>&quot;NA&quot;</td><td>&quot;NA&quot;</td><td>false</td><td>false</td><td>false</td><td>&quot;NA&quot;</td><td>&quot;License Plate/Registration&quot;</td><td>&quot;NISS&quot;</td><td>2012</td><td>4</td><td>3</td><td>0</td><td>1</td></tr><tr><td>12748171</td><td>&quot;2017-11-30&quot;</td><td>&quot;17:40:00&quot;</td><td>&quot;60099&quot;</td><td>null</td><td>&quot;NA&quot;</td><td>&quot;hispanic&quot;</td><td>&quot;female&quot;</td><td>13501</td><td>&quot;ZION POLICE&quot;</td><td>&quot;vehicular&quot;</td><td>&quot;Moving Violation: Other&quot;</td><td>true</td><td>false</td><td>&quot;citation&quot;</td><td>&quot;NA&quot;</td><td>&quot;NA&quot;</td><td>&quot;NA&quot;</td><td>false</td><td>false</td><td>false</td><td>&quot;NA&quot;</td><td>&quot;Moving Violation: Other&quot;</td><td>&quot;DODG&quot;</td><td>2008</td><td>4</td><td>1</td><td>6</td><td>1</td></tr><tr><td>12748172</td><td>&quot;2017-11-30&quot;</td><td>&quot;19:29:00&quot;</td><td>&quot;60096&quot;</td><td>null</td><td>&quot;NA&quot;</td><td>&quot;white&quot;</td><td>&quot;male&quot;</td><td>13501</td><td>&quot;ZION POLICE&quot;</td><td>&quot;vehicular&quot;</td><td>&quot;License Plate/Registration&quot;</td><td>true</td><td>false</td><td>&quot;citation&quot;</td><td>&quot;NA&quot;</td><td>&quot;NA&quot;</td><td>&quot;NA&quot;</td><td>false</td><td>false</td><td>false</td><td>&quot;NA&quot;</td><td>&quot;License Plate/Registration&quot;</td><td>&quot;CHEV&quot;</td><td>1999</td><td>1</td><td>3</td><td>0</td><td>1</td></tr><tr><td>12748173</td><td>&quot;2017-11-30&quot;</td><td>&quot;21:28:00&quot;</td><td>&quot;60099&quot;</td><td>null</td><td>&quot;NA&quot;</td><td>&quot;black&quot;</td><td>&quot;female&quot;</td><td>13501</td><td>&quot;ZION POLICE&quot;</td><td>&quot;vehicular&quot;</td><td>&quot;License Plate/Registration&quot;</td><td>true</td><td>false</td><td>&quot;citation&quot;</td><td>&quot;NA&quot;</td><td>&quot;NA&quot;</td><td>&quot;NA&quot;</td><td>false</td><td>false</td><td>false</td><td>&quot;NA&quot;</td><td>&quot;License Plate/Registration&quot;</td><td>&quot;FORD&quot;</td><td>2000</td><td>2</td><td>3</td><td>0</td><td>1</td></tr></tbody></table></div>"
      ]
     },
     "execution_count": 3,
     "metadata": {},
     "output_type": "execute_result"
    }
   ],
   "execution_count": 3
  },
  {
   "metadata": {},
   "cell_type": "markdown",
   "source": [
    "<h2> Cleaning the Data </h2>\n",
    "\n",
    "<p> We need to make sure the data is clean so that I don't have a aneurysm </p>"
   ],
   "id": "60d8afb0cfeb5952"
  },
  {
   "metadata": {
    "ExecuteTime": {
     "end_time": "2024-11-19T15:06:09.361092Z",
     "start_time": "2024-11-19T15:06:07.960774Z"
    }
   },
   "cell_type": "code",
   "source": [
    "dfEah = df.select(\n",
    "    (pl.col(\"location\").str.contains(\"-\").alias(\"locationHy\")),\n",
    "    (pl.col(\"location\").str.contains(r\"^\\d{5}\").alias(\"ValidZip\"))\n",
    ")\n",
    "\n",
    "#reassign to df Expr or what ever polars uses\n",
    "df = df.with_columns(dfEah)\n",
    "#Then filter\n",
    "dfFiltered = df.filter(\n",
    "    (pl.col(\"locationHy\") == False),\n",
    "    (pl.col(\"ValidZip\") == True)\n",
    ")\n",
    "dfFiltered"
   ],
   "id": "46c0701de73d764f",
   "outputs": [
    {
     "data": {
      "text/plain": [
       "shape: (12_583_563, 31)\n",
       "┌────────────┬────────────┬──────────┬──────────┬───┬───────────┬───────────┬───────────┬──────────┐\n",
       "│ raw_row_nu ┆ date       ┆ time     ┆ location ┆ … ┆ raw_TypeO ┆ raw_Resul ┆ locationH ┆ ValidZip │\n",
       "│ mber       ┆ ---        ┆ ---      ┆ ---      ┆   ┆ fMovingVi ┆ tOfStop   ┆ y         ┆ ---      │\n",
       "│ ---        ┆ str        ┆ str      ┆ str      ┆   ┆ olation   ┆ ---       ┆ ---       ┆ bool     │\n",
       "│ i64        ┆            ┆          ┆          ┆   ┆ ---       ┆ i64       ┆ bool      ┆          │\n",
       "│            ┆            ┆          ┆          ┆   ┆ i64       ┆           ┆           ┆          │\n",
       "╞════════════╪════════════╪══════════╪══════════╪═══╪═══════════╪═══════════╪═══════════╪══════════╡\n",
       "│ 1          ┆ 2012-09-15 ┆ 10:20:00 ┆ 60641    ┆ … ┆ 4         ┆ 1         ┆ false     ┆ true     │\n",
       "│ 2          ┆ 2012-09-15 ┆ 10:20:00 ┆ 60189    ┆ … ┆ 2         ┆ 1         ┆ false     ┆ true     │\n",
       "│ 3          ┆ 2012-09-15 ┆ 10:20:00 ┆ 60638    ┆ … ┆ 6         ┆ 1         ┆ false     ┆ true     │\n",
       "│ 4          ┆ 2012-09-15 ┆ 10:20:00 ┆ 60638    ┆ … ┆ 6         ┆ 1         ┆ false     ┆ true     │\n",
       "│ 6          ┆ 2012-09-15 ┆ 10:30:00 ┆ 60632    ┆ … ┆ 6         ┆ 1         ┆ false     ┆ true     │\n",
       "│ …          ┆ …          ┆ …        ┆ …        ┆ … ┆ …         ┆ …         ┆ …         ┆ …        │\n",
       "│ 12748169   ┆ 2017-11-29 ┆ 15:44:00 ┆ 60085    ┆ … ┆ 4         ┆ 1         ┆ false     ┆ true     │\n",
       "│ 12748170   ┆ 2017-11-29 ┆ 17:11:00 ┆ 60099    ┆ … ┆ 0         ┆ 1         ┆ false     ┆ true     │\n",
       "│ 12748171   ┆ 2017-11-30 ┆ 17:40:00 ┆ 60099    ┆ … ┆ 6         ┆ 1         ┆ false     ┆ true     │\n",
       "│ 12748172   ┆ 2017-11-30 ┆ 19:29:00 ┆ 60096    ┆ … ┆ 0         ┆ 1         ┆ false     ┆ true     │\n",
       "│ 12748173   ┆ 2017-11-30 ┆ 21:28:00 ┆ 60099    ┆ … ┆ 0         ┆ 1         ┆ false     ┆ true     │\n",
       "└────────────┴────────────┴──────────┴──────────┴───┴───────────┴───────────┴───────────┴──────────┘"
      ],
      "text/html": [
       "<div><style>\n",
       ".dataframe > thead > tr,\n",
       ".dataframe > tbody > tr {\n",
       "  text-align: right;\n",
       "  white-space: pre-wrap;\n",
       "}\n",
       "</style>\n",
       "<small>shape: (12_583_563, 31)</small><table border=\"1\" class=\"dataframe\"><thead><tr><th>raw_row_number</th><th>date</th><th>time</th><th>location</th><th>beat</th><th>subject_age</th><th>subject_race</th><th>subject_sex</th><th>department_id</th><th>department_name</th><th>type</th><th>violation</th><th>citation_issued</th><th>warning_issued</th><th>outcome</th><th>contraband_found</th><th>contraband_drugs</th><th>contraband_weapons</th><th>search_conducted</th><th>search_person</th><th>search_vehicle</th><th>search_basis</th><th>reason_for_stop</th><th>vehicle_make</th><th>vehicle_year</th><th>raw_DriverRace</th><th>raw_ReasonForStop</th><th>raw_TypeOfMovingViolation</th><th>raw_ResultOfStop</th><th>locationHy</th><th>ValidZip</th></tr><tr><td>i64</td><td>str</td><td>str</td><td>str</td><td>i64</td><td>str</td><td>str</td><td>str</td><td>i64</td><td>str</td><td>str</td><td>str</td><td>bool</td><td>bool</td><td>str</td><td>str</td><td>str</td><td>str</td><td>bool</td><td>bool</td><td>bool</td><td>str</td><td>str</td><td>str</td><td>i64</td><td>i64</td><td>i64</td><td>i64</td><td>i64</td><td>bool</td><td>bool</td></tr></thead><tbody><tr><td>1</td><td>&quot;2012-09-15&quot;</td><td>&quot;10:20:00&quot;</td><td>&quot;60641&quot;</td><td>1611</td><td>&quot;NA&quot;</td><td>&quot;hispanic&quot;</td><td>&quot;male&quot;</td><td>13194</td><td>&quot;CHICAGO POLICE&quot;</td><td>&quot;vehicular&quot;</td><td>&quot;Moving Violation: Traffic Sign…</td><td>true</td><td>false</td><td>&quot;citation&quot;</td><td>&quot;NA&quot;</td><td>&quot;NA&quot;</td><td>&quot;NA&quot;</td><td>false</td><td>false</td><td>false</td><td>&quot;NA&quot;</td><td>&quot;Moving Violation: Traffic Sign…</td><td>&quot;CHRYSLER&quot;</td><td>2004</td><td>4</td><td>1</td><td>4</td><td>1</td><td>false</td><td>true</td></tr><tr><td>2</td><td>&quot;2012-09-15&quot;</td><td>&quot;10:20:00&quot;</td><td>&quot;60189&quot;</td><td>1912</td><td>&quot;NA&quot;</td><td>&quot;white&quot;</td><td>&quot;female&quot;</td><td>13194</td><td>&quot;CHICAGO POLICE&quot;</td><td>&quot;vehicular&quot;</td><td>&quot;Moving Violation: Lane Violati…</td><td>true</td><td>false</td><td>&quot;citation&quot;</td><td>&quot;NA&quot;</td><td>&quot;NA&quot;</td><td>&quot;NA&quot;</td><td>false</td><td>false</td><td>false</td><td>&quot;NA&quot;</td><td>&quot;Moving Violation: Lane Violati…</td><td>&quot;LEXUS&quot;</td><td>1999</td><td>1</td><td>1</td><td>2</td><td>1</td><td>false</td><td>true</td></tr><tr><td>3</td><td>&quot;2012-09-15&quot;</td><td>&quot;10:20:00&quot;</td><td>&quot;60638&quot;</td><td>815</td><td>&quot;NA&quot;</td><td>&quot;hispanic&quot;</td><td>&quot;female&quot;</td><td>13194</td><td>&quot;CHICAGO POLICE&quot;</td><td>&quot;vehicular&quot;</td><td>&quot;Moving Violation: Other&quot;</td><td>true</td><td>false</td><td>&quot;citation&quot;</td><td>&quot;NA&quot;</td><td>&quot;NA&quot;</td><td>&quot;NA&quot;</td><td>false</td><td>false</td><td>false</td><td>&quot;NA&quot;</td><td>&quot;Moving Violation: Other&quot;</td><td>&quot;WHITE GMC (BEGIN. MODEL YEAR 1…</td><td>2010</td><td>4</td><td>1</td><td>6</td><td>1</td><td>false</td><td>true</td></tr><tr><td>4</td><td>&quot;2012-09-15&quot;</td><td>&quot;10:20:00&quot;</td><td>&quot;60638&quot;</td><td>925</td><td>&quot;NA&quot;</td><td>&quot;white&quot;</td><td>&quot;male&quot;</td><td>13194</td><td>&quot;CHICAGO POLICE&quot;</td><td>&quot;vehicular&quot;</td><td>&quot;Moving Violation: Other&quot;</td><td>true</td><td>false</td><td>&quot;citation&quot;</td><td>&quot;NA&quot;</td><td>&quot;NA&quot;</td><td>&quot;NA&quot;</td><td>false</td><td>false</td><td>false</td><td>&quot;NA&quot;</td><td>&quot;Moving Violation: Other&quot;</td><td>&quot;CHEVROLET&quot;</td><td>2008</td><td>1</td><td>1</td><td>6</td><td>1</td><td>false</td><td>true</td></tr><tr><td>6</td><td>&quot;2012-09-15&quot;</td><td>&quot;10:30:00&quot;</td><td>&quot;60632&quot;</td><td>815</td><td>&quot;NA&quot;</td><td>&quot;hispanic&quot;</td><td>&quot;male&quot;</td><td>13194</td><td>&quot;CHICAGO POLICE&quot;</td><td>&quot;vehicular&quot;</td><td>&quot;Moving Violation: Other&quot;</td><td>true</td><td>false</td><td>&quot;citation&quot;</td><td>&quot;NA&quot;</td><td>&quot;NA&quot;</td><td>&quot;NA&quot;</td><td>false</td><td>false</td><td>false</td><td>&quot;NA&quot;</td><td>&quot;Moving Violation: Other&quot;</td><td>&quot;CHEVROLET&quot;</td><td>2000</td><td>4</td><td>1</td><td>6</td><td>1</td><td>false</td><td>true</td></tr><tr><td>&hellip;</td><td>&hellip;</td><td>&hellip;</td><td>&hellip;</td><td>&hellip;</td><td>&hellip;</td><td>&hellip;</td><td>&hellip;</td><td>&hellip;</td><td>&hellip;</td><td>&hellip;</td><td>&hellip;</td><td>&hellip;</td><td>&hellip;</td><td>&hellip;</td><td>&hellip;</td><td>&hellip;</td><td>&hellip;</td><td>&hellip;</td><td>&hellip;</td><td>&hellip;</td><td>&hellip;</td><td>&hellip;</td><td>&hellip;</td><td>&hellip;</td><td>&hellip;</td><td>&hellip;</td><td>&hellip;</td><td>&hellip;</td><td>&hellip;</td><td>&hellip;</td></tr><tr><td>12748169</td><td>&quot;2017-11-29&quot;</td><td>&quot;15:44:00&quot;</td><td>&quot;60085&quot;</td><td>null</td><td>&quot;NA&quot;</td><td>&quot;hispanic&quot;</td><td>&quot;male&quot;</td><td>13501</td><td>&quot;ZION POLICE&quot;</td><td>&quot;vehicular&quot;</td><td>&quot;Moving Violation: Traffic Sign…</td><td>true</td><td>false</td><td>&quot;citation&quot;</td><td>&quot;FALSE&quot;</td><td>&quot;FALSE&quot;</td><td>&quot;FALSE&quot;</td><td>true</td><td>true</td><td>true</td><td>&quot;NA&quot;</td><td>&quot;Moving Violation: Traffic Sign…</td><td>&quot;MITS&quot;</td><td>2005</td><td>4</td><td>1</td><td>4</td><td>1</td><td>false</td><td>true</td></tr><tr><td>12748170</td><td>&quot;2017-11-29&quot;</td><td>&quot;17:11:00&quot;</td><td>&quot;60099&quot;</td><td>null</td><td>&quot;NA&quot;</td><td>&quot;hispanic&quot;</td><td>&quot;female&quot;</td><td>13501</td><td>&quot;ZION POLICE&quot;</td><td>&quot;vehicular&quot;</td><td>&quot;License Plate/Registration&quot;</td><td>true</td><td>false</td><td>&quot;citation&quot;</td><td>&quot;NA&quot;</td><td>&quot;NA&quot;</td><td>&quot;NA&quot;</td><td>false</td><td>false</td><td>false</td><td>&quot;NA&quot;</td><td>&quot;License Plate/Registration&quot;</td><td>&quot;NISS&quot;</td><td>2012</td><td>4</td><td>3</td><td>0</td><td>1</td><td>false</td><td>true</td></tr><tr><td>12748171</td><td>&quot;2017-11-30&quot;</td><td>&quot;17:40:00&quot;</td><td>&quot;60099&quot;</td><td>null</td><td>&quot;NA&quot;</td><td>&quot;hispanic&quot;</td><td>&quot;female&quot;</td><td>13501</td><td>&quot;ZION POLICE&quot;</td><td>&quot;vehicular&quot;</td><td>&quot;Moving Violation: Other&quot;</td><td>true</td><td>false</td><td>&quot;citation&quot;</td><td>&quot;NA&quot;</td><td>&quot;NA&quot;</td><td>&quot;NA&quot;</td><td>false</td><td>false</td><td>false</td><td>&quot;NA&quot;</td><td>&quot;Moving Violation: Other&quot;</td><td>&quot;DODG&quot;</td><td>2008</td><td>4</td><td>1</td><td>6</td><td>1</td><td>false</td><td>true</td></tr><tr><td>12748172</td><td>&quot;2017-11-30&quot;</td><td>&quot;19:29:00&quot;</td><td>&quot;60096&quot;</td><td>null</td><td>&quot;NA&quot;</td><td>&quot;white&quot;</td><td>&quot;male&quot;</td><td>13501</td><td>&quot;ZION POLICE&quot;</td><td>&quot;vehicular&quot;</td><td>&quot;License Plate/Registration&quot;</td><td>true</td><td>false</td><td>&quot;citation&quot;</td><td>&quot;NA&quot;</td><td>&quot;NA&quot;</td><td>&quot;NA&quot;</td><td>false</td><td>false</td><td>false</td><td>&quot;NA&quot;</td><td>&quot;License Plate/Registration&quot;</td><td>&quot;CHEV&quot;</td><td>1999</td><td>1</td><td>3</td><td>0</td><td>1</td><td>false</td><td>true</td></tr><tr><td>12748173</td><td>&quot;2017-11-30&quot;</td><td>&quot;21:28:00&quot;</td><td>&quot;60099&quot;</td><td>null</td><td>&quot;NA&quot;</td><td>&quot;black&quot;</td><td>&quot;female&quot;</td><td>13501</td><td>&quot;ZION POLICE&quot;</td><td>&quot;vehicular&quot;</td><td>&quot;License Plate/Registration&quot;</td><td>true</td><td>false</td><td>&quot;citation&quot;</td><td>&quot;NA&quot;</td><td>&quot;NA&quot;</td><td>&quot;NA&quot;</td><td>false</td><td>false</td><td>false</td><td>&quot;NA&quot;</td><td>&quot;License Plate/Registration&quot;</td><td>&quot;FORD&quot;</td><td>2000</td><td>2</td><td>3</td><td>0</td><td>1</td><td>false</td><td>true</td></tr></tbody></table></div>"
      ]
     },
     "execution_count": 4,
     "metadata": {},
     "output_type": "execute_result"
    }
   ],
   "execution_count": 4
  },
  {
   "metadata": {
    "ExecuteTime": {
     "end_time": "2024-11-19T15:06:10.102679Z",
     "start_time": "2024-11-19T15:06:09.449525Z"
    }
   },
   "cell_type": "code",
   "source": [
    "dfFiltered.select(\n",
    "    (pl.col(\"locationHy\").value_counts()),\n",
    "    (pl.col(\"ValidZip\").value_counts())\n",
    ")"
   ],
   "id": "d944be06d53ce22f",
   "outputs": [
    {
     "data": {
      "text/plain": [
       "shape: (1, 2)\n",
       "┌──────────────────┬─────────────────┐\n",
       "│ locationHy       ┆ ValidZip        │\n",
       "│ ---              ┆ ---             │\n",
       "│ struct[2]        ┆ struct[2]       │\n",
       "╞══════════════════╪═════════════════╡\n",
       "│ {false,12583563} ┆ {true,12583563} │\n",
       "└──────────────────┴─────────────────┘"
      ],
      "text/html": [
       "<div><style>\n",
       ".dataframe > thead > tr,\n",
       ".dataframe > tbody > tr {\n",
       "  text-align: right;\n",
       "  white-space: pre-wrap;\n",
       "}\n",
       "</style>\n",
       "<small>shape: (1, 2)</small><table border=\"1\" class=\"dataframe\"><thead><tr><th>locationHy</th><th>ValidZip</th></tr><tr><td>struct[2]</td><td>struct[2]</td></tr></thead><tbody><tr><td>{false,12583563}</td><td>{true,12583563}</td></tr></tbody></table></div>"
      ]
     },
     "execution_count": 5,
     "metadata": {},
     "output_type": "execute_result"
    }
   ],
   "execution_count": 5
  },
  {
   "metadata": {
    "ExecuteTime": {
     "end_time": "2024-11-19T15:06:12.073138Z",
     "start_time": "2024-11-19T15:06:10.812331Z"
    }
   },
   "cell_type": "code",
   "source": [
    "dfFiltered = dfFiltered.with_columns(\n",
    "    (pl.col(\"location\").str.to_integer(strict=False)),\n",
    "    (pl.col(\"date\").str.to_datetime(format=\"%Y-%d-%m\", strict = False)),\n",
    "    (pl.col(\"time\").str.to_time(format=\"%H:%M:%S\", strict = False))\n",
    ")"
   ],
   "id": "b0f902c93c8cd1d7",
   "outputs": [],
   "execution_count": 6
  },
  {
   "metadata": {
    "ExecuteTime": {
     "end_time": "2024-11-19T15:06:12.309317Z",
     "start_time": "2024-11-19T15:06:12.306092Z"
    }
   },
   "cell_type": "code",
   "source": "",
   "id": "717ef1ce3a091007",
   "outputs": [],
   "execution_count": null
  },
  {
   "metadata": {},
   "cell_type": "markdown",
   "source": "<h2> Some Findings? </h2>",
   "id": "8ac9ce6adc46bf2d"
  },
  {
   "metadata": {},
   "cell_type": "markdown",
   "source": [
    "<h4> Contraband Findings </h4>\n",
    "<p> This is where I sperate out the contraband stuff\n",
    "out from the rest of the dataset to make it easier to work with </p>"
   ],
   "id": "1f57ab1218cf9a1c"
  },
  {
   "metadata": {
    "ExecuteTime": {
     "end_time": "2024-11-19T15:40:38.101443Z",
     "start_time": "2024-11-19T15:40:38.094631Z"
    }
   },
   "cell_type": "code",
   "source": [
    "#Just some boilerplate code\n",
    "def proportion(value, total):\n",
    "    return value / total"
   ],
   "id": "a251d0328d5df25f",
   "outputs": [],
   "execution_count": 28
  },
  {
   "metadata": {
    "ExecuteTime": {
     "end_time": "2024-11-19T15:06:14.602836Z",
     "start_time": "2024-11-19T15:06:12.344367Z"
    }
   },
   "cell_type": "code",
   "source": [
    "Selected = dfFiltered.select(\n",
    "    (pl.col(\"contraband_found\").value_counts()),\n",
    "    (pl.col(\"contraband_drugs\").value_counts()),\n",
    "    (pl.col(\"contraband_weapons\").value_counts())\n",
    ")\n",
    "Selected"
   ],
   "id": "23e2fcd2b92da9b6",
   "outputs": [
    {
     "data": {
      "text/plain": [
       "shape: (3, 3)\n",
       "┌──────────────────┬──────────────────┬────────────────────┐\n",
       "│ contraband_found ┆ contraband_drugs ┆ contraband_weapons │\n",
       "│ ---              ┆ ---              ┆ ---                │\n",
       "│ struct[2]        ┆ struct[2]        ┆ struct[2]          │\n",
       "╞══════════════════╪══════════════════╪════════════════════╡\n",
       "│ {\"NA\",12013611}  ┆ {\"TRUE\",114310}  ┆ {\"NA\",12013620}    │\n",
       "│ {\"FALSE\",452349} ┆ {\"NA\",12013650}  ┆ {\"FALSE\",563553}   │\n",
       "│ {\"TRUE\",117603}  ┆ {\"FALSE\",455603} ┆ {\"TRUE\",6390}      │\n",
       "└──────────────────┴──────────────────┴────────────────────┘"
      ],
      "text/html": [
       "<div><style>\n",
       ".dataframe > thead > tr,\n",
       ".dataframe > tbody > tr {\n",
       "  text-align: right;\n",
       "  white-space: pre-wrap;\n",
       "}\n",
       "</style>\n",
       "<small>shape: (3, 3)</small><table border=\"1\" class=\"dataframe\"><thead><tr><th>contraband_found</th><th>contraband_drugs</th><th>contraband_weapons</th></tr><tr><td>struct[2]</td><td>struct[2]</td><td>struct[2]</td></tr></thead><tbody><tr><td>{&quot;NA&quot;,12013611}</td><td>{&quot;TRUE&quot;,114310}</td><td>{&quot;NA&quot;,12013620}</td></tr><tr><td>{&quot;FALSE&quot;,452349}</td><td>{&quot;NA&quot;,12013650}</td><td>{&quot;FALSE&quot;,563553}</td></tr><tr><td>{&quot;TRUE&quot;,117603}</td><td>{&quot;FALSE&quot;,455603}</td><td>{&quot;TRUE&quot;,6390}</td></tr></tbody></table></div>"
      ]
     },
     "execution_count": 7,
     "metadata": {},
     "output_type": "execute_result"
    }
   ],
   "execution_count": 7
  },
  {
   "metadata": {
    "ExecuteTime": {
     "end_time": "2024-11-19T15:06:15.647175Z",
     "start_time": "2024-11-19T15:06:14.708424Z"
    }
   },
   "cell_type": "code",
   "source": [
    "AnyContraband = dfFiltered.filter(\n",
    "    (pl.col(\"contraband_found\") == \"TRUE\") |\n",
    "    (pl.col(\"contraband_drugs\") == \"TRUE\") |\n",
    "    (pl.col(\"contraband_weapons\") == \"TRUE\") |\n",
    "    (pl.col(\"contraband_found\") == \"FALSE\") |\n",
    "    (pl.col(\"contraband_drugs\") == \"FALSE\") |\n",
    "    (pl.col(\"contraband_weapons\") == \"FALSE\")\n",
    ")\n",
    "\n",
    "AnyContraband.with_columns(\n",
    "    pl.col(\"contraband_found\").replace_strict({\"FALSE\":False, \"TRUE\":True}, default=None).cast(pl.Boolean),\n",
    "    pl.col(\"contraband_drugs\").replace_strict({\"FALSE\":False, \"TRUE\":True}, default=None).cast(pl.Boolean),\n",
    "    pl.col(\"contraband_weapons\").replace_strict({\"FALSE\":False, \"TRUE\":True}, default=None).cast(pl.Boolean),\n",
    ")"
   ],
   "id": "4838140bb09ae2af",
   "outputs": [
    {
     "data": {
      "text/plain": [
       "shape: (569_952, 31)\n",
       "┌────────────┬────────────┬──────────┬──────────┬───┬───────────┬───────────┬───────────┬──────────┐\n",
       "│ raw_row_nu ┆ date       ┆ time     ┆ location ┆ … ┆ raw_TypeO ┆ raw_Resul ┆ locationH ┆ ValidZip │\n",
       "│ mber       ┆ ---        ┆ ---      ┆ ---      ┆   ┆ fMovingVi ┆ tOfStop   ┆ y         ┆ ---      │\n",
       "│ ---        ┆ datetime[μ ┆ time     ┆ i64      ┆   ┆ olation   ┆ ---       ┆ ---       ┆ bool     │\n",
       "│ i64        ┆ s]         ┆          ┆          ┆   ┆ ---       ┆ i64       ┆ bool      ┆          │\n",
       "│            ┆            ┆          ┆          ┆   ┆ i64       ┆           ┆           ┆          │\n",
       "╞════════════╪════════════╪══════════╪══════════╪═══╪═══════════╪═══════════╪═══════════╪══════════╡\n",
       "│ 36         ┆ 2012-01-01 ┆ 01:13:00 ┆ 60653    ┆ … ┆ 0         ┆ 3         ┆ false     ┆ true     │\n",
       "│            ┆ 00:00:00   ┆          ┆          ┆   ┆           ┆           ┆           ┆          │\n",
       "│ 37         ┆ 2012-01-01 ┆ 01:14:00 ┆ 60707    ┆ … ┆ 0         ┆ 1         ┆ false     ┆ true     │\n",
       "│            ┆ 00:00:00   ┆          ┆          ┆   ┆           ┆           ┆           ┆          │\n",
       "│ 80         ┆ 2012-01-01 ┆ 07:33:00 ┆ 60608    ┆ … ┆ 4         ┆ 1         ┆ false     ┆ true     │\n",
       "│            ┆ 00:00:00   ┆          ┆          ┆   ┆           ┆           ┆           ┆          │\n",
       "│ 89         ┆ 2012-01-01 ┆ 09:05:00 ┆ 60609    ┆ … ┆ 4         ┆ 1         ┆ false     ┆ true     │\n",
       "│            ┆ 00:00:00   ┆          ┆          ┆   ┆           ┆           ┆           ┆          │\n",
       "│ 100        ┆ 2012-01-01 ┆ 10:30:00 ┆ 60612    ┆ … ┆ 6         ┆ 1         ┆ false     ┆ true     │\n",
       "│            ┆ 00:00:00   ┆          ┆          ┆   ┆           ┆           ┆           ┆          │\n",
       "│ …          ┆ …          ┆ …        ┆ …        ┆ … ┆ …         ┆ …         ┆ …         ┆ …        │\n",
       "│ 12748088   ┆ 2017-06-11 ┆ 11:44:00 ┆ 60099    ┆ … ┆ 1         ┆ 1         ┆ false     ┆ true     │\n",
       "│            ┆ 00:00:00   ┆          ┆          ┆   ┆           ┆           ┆           ┆          │\n",
       "│ 12748117   ┆ 2017-11-11 ┆ 23:06:00 ┆ 60099    ┆ … ┆ 0         ┆ 3         ┆ false     ┆ true     │\n",
       "│            ┆ 00:00:00   ┆          ┆          ┆   ┆           ┆           ┆           ┆          │\n",
       "│ 12748138   ┆ null       ┆ 11:33:00 ┆ 60087    ┆ … ┆ 0         ┆ 1         ┆ false     ┆ true     │\n",
       "│ 12748142   ┆ null       ┆ 21:17:00 ┆ 60087    ┆ … ┆ 1         ┆ 1         ┆ false     ┆ true     │\n",
       "│ 12748169   ┆ null       ┆ 15:44:00 ┆ 60085    ┆ … ┆ 4         ┆ 1         ┆ false     ┆ true     │\n",
       "└────────────┴────────────┴──────────┴──────────┴───┴───────────┴───────────┴───────────┴──────────┘"
      ],
      "text/html": [
       "<div><style>\n",
       ".dataframe > thead > tr,\n",
       ".dataframe > tbody > tr {\n",
       "  text-align: right;\n",
       "  white-space: pre-wrap;\n",
       "}\n",
       "</style>\n",
       "<small>shape: (569_952, 31)</small><table border=\"1\" class=\"dataframe\"><thead><tr><th>raw_row_number</th><th>date</th><th>time</th><th>location</th><th>beat</th><th>subject_age</th><th>subject_race</th><th>subject_sex</th><th>department_id</th><th>department_name</th><th>type</th><th>violation</th><th>citation_issued</th><th>warning_issued</th><th>outcome</th><th>contraband_found</th><th>contraband_drugs</th><th>contraband_weapons</th><th>search_conducted</th><th>search_person</th><th>search_vehicle</th><th>search_basis</th><th>reason_for_stop</th><th>vehicle_make</th><th>vehicle_year</th><th>raw_DriverRace</th><th>raw_ReasonForStop</th><th>raw_TypeOfMovingViolation</th><th>raw_ResultOfStop</th><th>locationHy</th><th>ValidZip</th></tr><tr><td>i64</td><td>datetime[μs]</td><td>time</td><td>i64</td><td>i64</td><td>str</td><td>str</td><td>str</td><td>i64</td><td>str</td><td>str</td><td>str</td><td>bool</td><td>bool</td><td>str</td><td>bool</td><td>bool</td><td>bool</td><td>bool</td><td>bool</td><td>bool</td><td>str</td><td>str</td><td>str</td><td>i64</td><td>i64</td><td>i64</td><td>i64</td><td>i64</td><td>bool</td><td>bool</td></tr></thead><tbody><tr><td>36</td><td>2012-01-01 00:00:00</td><td>01:13:00</td><td>60653</td><td>724</td><td>&quot;NA&quot;</td><td>&quot;black&quot;</td><td>&quot;male&quot;</td><td>13194</td><td>&quot;CHICAGO POLICE&quot;</td><td>&quot;vehicular&quot;</td><td>&quot;License Plate/Registration&quot;</td><td>false</td><td>true</td><td>&quot;warning&quot;</td><td>false</td><td>false</td><td>false</td><td>true</td><td>true</td><td>true</td><td>&quot;consent&quot;</td><td>&quot;License Plate/Registration&quot;</td><td>&quot;BUICK&quot;</td><td>2004</td><td>2</td><td>3</td><td>0</td><td>3</td><td>false</td><td>true</td></tr><tr><td>37</td><td>2012-01-01 00:00:00</td><td>01:14:00</td><td>60707</td><td>2531</td><td>&quot;NA&quot;</td><td>&quot;black&quot;</td><td>&quot;male&quot;</td><td>13194</td><td>&quot;CHICAGO POLICE&quot;</td><td>&quot;vehicular&quot;</td><td>&quot;License Plate/Registration&quot;</td><td>true</td><td>false</td><td>&quot;citation&quot;</td><td>true</td><td>false</td><td>true</td><td>true</td><td>true</td><td>true</td><td>&quot;NA&quot;</td><td>&quot;License Plate/Registration&quot;</td><td>&quot;CADILLAC&quot;</td><td>2000</td><td>2</td><td>3</td><td>0</td><td>1</td><td>false</td><td>true</td></tr><tr><td>80</td><td>2012-01-01 00:00:00</td><td>07:33:00</td><td>60608</td><td>924</td><td>&quot;NA&quot;</td><td>&quot;hispanic&quot;</td><td>&quot;male&quot;</td><td>13194</td><td>&quot;CHICAGO POLICE&quot;</td><td>&quot;vehicular&quot;</td><td>&quot;Moving Violation: Traffic Sign…</td><td>true</td><td>false</td><td>&quot;citation&quot;</td><td>false</td><td>false</td><td>false</td><td>true</td><td>true</td><td>true</td><td>&quot;NA&quot;</td><td>&quot;Moving Violation: Traffic Sign…</td><td>&quot;CHEVROLET&quot;</td><td>1997</td><td>4</td><td>1</td><td>4</td><td>1</td><td>false</td><td>true</td></tr><tr><td>89</td><td>2012-01-01 00:00:00</td><td>09:05:00</td><td>60609</td><td>914</td><td>&quot;NA&quot;</td><td>&quot;hispanic&quot;</td><td>&quot;male&quot;</td><td>13194</td><td>&quot;CHICAGO POLICE&quot;</td><td>&quot;vehicular&quot;</td><td>&quot;Moving Violation: Traffic Sign…</td><td>true</td><td>false</td><td>&quot;citation&quot;</td><td>false</td><td>false</td><td>false</td><td>true</td><td>true</td><td>true</td><td>&quot;consent&quot;</td><td>&quot;Moving Violation: Traffic Sign…</td><td>&quot;CHEVROLET&quot;</td><td>1984</td><td>4</td><td>1</td><td>4</td><td>1</td><td>false</td><td>true</td></tr><tr><td>100</td><td>2012-01-01 00:00:00</td><td>10:30:00</td><td>60612</td><td>1532</td><td>&quot;NA&quot;</td><td>&quot;black&quot;</td><td>&quot;male&quot;</td><td>13194</td><td>&quot;CHICAGO POLICE&quot;</td><td>&quot;vehicular&quot;</td><td>&quot;Moving Violation: Other&quot;</td><td>true</td><td>false</td><td>&quot;citation&quot;</td><td>false</td><td>false</td><td>false</td><td>true</td><td>true</td><td>true</td><td>&quot;consent&quot;</td><td>&quot;Moving Violation: Other&quot;</td><td>&quot;CHEVROLET&quot;</td><td>2011</td><td>2</td><td>1</td><td>6</td><td>1</td><td>false</td><td>true</td></tr><tr><td>&hellip;</td><td>&hellip;</td><td>&hellip;</td><td>&hellip;</td><td>&hellip;</td><td>&hellip;</td><td>&hellip;</td><td>&hellip;</td><td>&hellip;</td><td>&hellip;</td><td>&hellip;</td><td>&hellip;</td><td>&hellip;</td><td>&hellip;</td><td>&hellip;</td><td>&hellip;</td><td>&hellip;</td><td>&hellip;</td><td>&hellip;</td><td>&hellip;</td><td>&hellip;</td><td>&hellip;</td><td>&hellip;</td><td>&hellip;</td><td>&hellip;</td><td>&hellip;</td><td>&hellip;</td><td>&hellip;</td><td>&hellip;</td><td>&hellip;</td><td>&hellip;</td></tr><tr><td>12748088</td><td>2017-06-11 00:00:00</td><td>11:44:00</td><td>60099</td><td>null</td><td>&quot;NA&quot;</td><td>&quot;black&quot;</td><td>&quot;female&quot;</td><td>13501</td><td>&quot;ZION POLICE&quot;</td><td>&quot;vehicular&quot;</td><td>&quot;Moving Violation: Speed&quot;</td><td>true</td><td>false</td><td>&quot;citation&quot;</td><td>true</td><td>true</td><td>false</td><td>true</td><td>false</td><td>true</td><td>&quot;NA&quot;</td><td>&quot;Moving Violation: Speed&quot;</td><td>&quot;CHEV&quot;</td><td>2013</td><td>2</td><td>1</td><td>1</td><td>1</td><td>false</td><td>true</td></tr><tr><td>12748117</td><td>2017-11-11 00:00:00</td><td>23:06:00</td><td>60099</td><td>null</td><td>&quot;NA&quot;</td><td>&quot;black&quot;</td><td>&quot;male&quot;</td><td>13501</td><td>&quot;ZION POLICE&quot;</td><td>&quot;vehicular&quot;</td><td>&quot;Equipment&quot;</td><td>false</td><td>true</td><td>&quot;warning&quot;</td><td>false</td><td>false</td><td>false</td><td>true</td><td>true</td><td>true</td><td>&quot;NA&quot;</td><td>&quot;Equipment&quot;</td><td>&quot;JEEP&quot;</td><td>2002</td><td>2</td><td>2</td><td>0</td><td>3</td><td>false</td><td>true</td></tr><tr><td>12748138</td><td>null</td><td>11:33:00</td><td>60087</td><td>null</td><td>&quot;NA&quot;</td><td>&quot;black&quot;</td><td>&quot;male&quot;</td><td>13501</td><td>&quot;ZION POLICE&quot;</td><td>&quot;vehicular&quot;</td><td>&quot;License Plate/Registration&quot;</td><td>true</td><td>false</td><td>&quot;citation&quot;</td><td>false</td><td>false</td><td>false</td><td>true</td><td>true</td><td>false</td><td>&quot;NA&quot;</td><td>&quot;License Plate/Registration&quot;</td><td>&quot;CADI&quot;</td><td>2003</td><td>2</td><td>3</td><td>0</td><td>1</td><td>false</td><td>true</td></tr><tr><td>12748142</td><td>null</td><td>21:17:00</td><td>60087</td><td>null</td><td>&quot;NA&quot;</td><td>&quot;black&quot;</td><td>&quot;male&quot;</td><td>13501</td><td>&quot;ZION POLICE&quot;</td><td>&quot;vehicular&quot;</td><td>&quot;Moving Violation: Speed&quot;</td><td>true</td><td>false</td><td>&quot;citation&quot;</td><td>true</td><td>true</td><td>false</td><td>true</td><td>true</td><td>true</td><td>&quot;consent&quot;</td><td>&quot;Moving Violation: Speed&quot;</td><td>&quot;CHEV&quot;</td><td>2014</td><td>2</td><td>1</td><td>1</td><td>1</td><td>false</td><td>true</td></tr><tr><td>12748169</td><td>null</td><td>15:44:00</td><td>60085</td><td>null</td><td>&quot;NA&quot;</td><td>&quot;hispanic&quot;</td><td>&quot;male&quot;</td><td>13501</td><td>&quot;ZION POLICE&quot;</td><td>&quot;vehicular&quot;</td><td>&quot;Moving Violation: Traffic Sign…</td><td>true</td><td>false</td><td>&quot;citation&quot;</td><td>false</td><td>false</td><td>false</td><td>true</td><td>true</td><td>true</td><td>&quot;NA&quot;</td><td>&quot;Moving Violation: Traffic Sign…</td><td>&quot;MITS&quot;</td><td>2005</td><td>4</td><td>1</td><td>4</td><td>1</td><td>false</td><td>true</td></tr></tbody></table></div>"
      ]
     },
     "execution_count": 8,
     "metadata": {},
     "output_type": "execute_result"
    }
   ],
   "execution_count": 8
  },
  {
   "metadata": {
    "jupyter": {
     "is_executing": true
    },
    "ExecuteTime": {
     "start_time": "2024-11-19T15:06:15.744914Z"
    }
   },
   "cell_type": "code",
   "source": "AnyContraband.write_csv()",
   "id": "b2786aacf8695cc9",
   "outputs": [],
   "execution_count": null
  },
  {
   "metadata": {},
   "cell_type": "markdown",
   "source": "<h3> Hit Rates </h3>",
   "id": "8c2403487abbc488"
  },
  {
   "metadata": {
    "ExecuteTime": {
     "end_time": "2024-11-19T15:45:22.323857Z",
     "start_time": "2024-11-19T15:45:21.706395Z"
    }
   },
   "cell_type": "code",
   "source": [
    "counted = dfFiltered.select(\n",
    "    pl.col(\"subject_race\").value_counts(),\n",
    ")\n",
    "\n",
    "counts_df = counted.unnest(\"subject_race\")"
   ],
   "id": "78f298db55fbc487",
   "outputs": [],
   "execution_count": 36
  },
  {
   "metadata": {
    "ExecuteTime": {
     "end_time": "2024-11-19T15:45:30.668079Z",
     "start_time": "2024-11-19T15:45:24.032972Z"
    }
   },
   "cell_type": "code",
   "source": [
    "#have to filter out by stuff this is going to suck\n",
    "AfricanAmerican = dfFiltered.filter(\n",
    "    pl.col(\"subject_race\") == \"black\"\n",
    ")\n",
    "\n",
    "LatinoAmerican = dfFiltered.filter(\n",
    "    pl.col(\"subject_race\") == \"hispanic\"\n",
    ")\n",
    "\n",
    "NativeAmerican = dfFiltered.filter(\n",
    "    pl.col(\"subject_race\") == \"other\"\n",
    ")\n",
    "\n",
    "asainPaific = dfFiltered.filter(\n",
    "    pl.col(\"subject_race\") == \"asian/pacific islander\"\n",
    ")\n",
    "\n",
    "WhiteAmerican = dfFiltered.filter(\n",
    "    pl.col(\"subject_race\") == \"white\"\n",
    ")\n"
   ],
   "id": "44ef75c0911a516b",
   "outputs": [],
   "execution_count": 37
  },
  {
   "metadata": {
    "ExecuteTime": {
     "end_time": "2024-11-19T15:45:31.886116Z",
     "start_time": "2024-11-19T15:45:31.863659Z"
    }
   },
   "cell_type": "code",
   "source": [
    "count = 0\n",
    "for i in counts_df[\"count\"]:\n",
    "    count += i\n",
    "count = count - 692 # to acount for the stuff i'm not counting\n",
    "count"
   ],
   "id": "9175e7a5992dbac8",
   "outputs": [
    {
     "data": {
      "text/plain": [
       "12582871"
      ]
     },
     "execution_count": 38,
     "metadata": {},
     "output_type": "execute_result"
    }
   ],
   "execution_count": 38
  },
  {
   "metadata": {
    "ExecuteTime": {
     "end_time": "2024-11-19T15:45:33.656557Z",
     "start_time": "2024-11-19T15:45:33.619910Z"
    }
   },
   "cell_type": "code",
   "source": [
    "AfricanCount = AfricanAmerican.select(\n",
    "    pl.col(\"subject_race\").count(),\n",
    ")\n",
    "\n",
    "LatinoCount = LatinoAmerican.select(\n",
    "    pl.col(\"subject_race\").count(),\n",
    ")\n",
    "\n",
    "NativeCount = NativeAmerican.select(\n",
    "    pl.col(\"subject_race\").count(),\n",
    ")\n",
    "\n",
    "asainPaific = asainPaific.select(\n",
    "    pl.col(\"subject_race\").count(),\n",
    ")\n",
    "\n",
    "whiteCount = WhiteAmerican.select(\n",
    "    pl.col(\"subject_race\").count()\n",
    ")\n",
    "whiteCount, NativeCount"
   ],
   "id": "576824a83606a6c7",
   "outputs": [
    {
     "data": {
      "text/plain": [
       "(shape: (1, 1)\n",
       " ┌──────────────┐\n",
       " │ subject_race │\n",
       " │ ---          │\n",
       " │ u32          │\n",
       " ╞══════════════╡\n",
       " │ 7966948      │\n",
       " └──────────────┘,\n",
       " shape: (1, 1)\n",
       " ┌──────────────┐\n",
       " │ subject_race │\n",
       " │ ---          │\n",
       " │ u32          │\n",
       " ╞══════════════╡\n",
       " │ 34845        │\n",
       " └──────────────┘)"
      ]
     },
     "execution_count": 39,
     "metadata": {},
     "output_type": "execute_result"
    }
   ],
   "execution_count": 39
  },
  {
   "metadata": {
    "ExecuteTime": {
     "end_time": "2024-11-19T15:45:37.717028Z",
     "start_time": "2024-11-19T15:45:37.696097Z"
    }
   },
   "cell_type": "code",
   "source": [
    "hitrates = {\n",
    "    \"white\" : proportion(whiteCount[\"subject_race\"], count),\n",
    "    \"african_american\" : proportion(AfricanCount[\"subject_race\"], count),\n",
    "    \"latin_american\" : proportion(LatinoCount[\"subject_race\"], count),\n",
    "    \"native_count\": proportion(NativeCount[\"subject_race\"], count),\n",
    "    \"asain_paific\" : proportion(asainPaific[\"subject_race\"], count),\n",
    "}\n",
    "hitrates"
   ],
   "id": "e29292b7d2aca734",
   "outputs": [
    {
     "data": {
      "text/plain": [
       "{'white': shape: (1,)\n",
       " Series: 'subject_race' [f64]\n",
       " [\n",
       " \t0.633158\n",
       " ],\n",
       " 'african_american': shape: (1,)\n",
       " Series: 'subject_race' [f64]\n",
       " [\n",
       " \t0.199279\n",
       " ],\n",
       " 'latin_american': shape: (1,)\n",
       " Series: 'subject_race' [f64]\n",
       " [\n",
       " \t0.132312\n",
       " ],\n",
       " 'native_count': shape: (1,)\n",
       " Series: 'subject_race' [f64]\n",
       " [\n",
       " \t0.002769\n",
       " ],\n",
       " 'asain_paific': shape: (1,)\n",
       " Series: 'subject_race' [f64]\n",
       " [\n",
       " \t0.032482\n",
       " ]}"
      ]
     },
     "execution_count": 40,
     "metadata": {},
     "output_type": "execute_result"
    }
   ],
   "execution_count": 40
  },
  {
   "metadata": {},
   "cell_type": "markdown",
   "source": "<h3> Hit by Department </h3>",
   "id": "e7f8494b61443d27"
  },
  {
   "metadata": {
    "ExecuteTime": {
     "end_time": "2024-11-19T16:13:57.424078Z",
     "start_time": "2024-11-19T16:13:57.110610Z"
    }
   },
   "cell_type": "code",
   "source": [
    "allDepats = dfFiltered.select(\n",
    "    pl.col(\"department_id\").value_counts(),\n",
    ")"
   ],
   "id": "6b275ef37dec3f40",
   "outputs": [],
   "execution_count": 44
  },
  {
   "metadata": {
    "ExecuteTime": {
     "end_time": "2024-11-19T16:20:07.430876Z",
     "start_time": "2024-11-19T16:20:07.412619Z"
    }
   },
   "cell_type": "code",
   "source": [
    "sampleDeparts = allDepats.sample(10)\n",
    "samples = sampleDeparts.unnest(\"department_id\")"
   ],
   "id": "d8a78df2335af108",
   "outputs": [],
   "execution_count": 46
  },
  {
   "metadata": {
    "ExecuteTime": {
     "end_time": "2024-11-19T16:59:40.836284Z",
     "start_time": "2024-11-19T16:59:40.495071Z"
    }
   },
   "cell_type": "code",
   "source": [
    "deparmentsDataframe = {}\n",
    "\n",
    "for i in samples[\"department_id\"]:\n",
    "    deparmentsDataframe[i] = dfFiltered.filter(pl.col(\"department_id\").is_in(i))\n",
    "\n",
    "deparmentsDataframe"
   ],
   "id": "bc8825b6a525c200",
   "outputs": [
    {
     "data": {
      "text/plain": [
       "{13777: shape: (2_480, 31)\n",
       " ┌────────────┬────────────┬──────────┬──────────┬───┬───────────┬───────────┬───────────┬──────────┐\n",
       " │ raw_row_nu ┆ date       ┆ time     ┆ location ┆ … ┆ raw_TypeO ┆ raw_Resul ┆ locationH ┆ ValidZip │\n",
       " │ mber       ┆ ---        ┆ ---      ┆ ---      ┆   ┆ fMovingVi ┆ tOfStop   ┆ y         ┆ ---      │\n",
       " │ ---        ┆ datetime[μ ┆ time     ┆ i64      ┆   ┆ olation   ┆ ---       ┆ ---       ┆ bool     │\n",
       " │ i64        ┆ s]         ┆          ┆          ┆   ┆ ---       ┆ i64       ┆ bool      ┆          │\n",
       " │            ┆            ┆          ┆          ┆   ┆ i64       ┆           ┆           ┆          │\n",
       " ╞════════════╪════════════╪══════════╪══════════╪═══╪═══════════╪═══════════╪═══════════╪══════════╡\n",
       " │ 121944     ┆ 2012-08-01 ┆ 20:33:00 ┆ 62286    ┆ … ┆ 1         ┆ 1         ┆ false     ┆ true     │\n",
       " │            ┆ 00:00:00   ┆          ┆          ┆   ┆           ┆           ┆           ┆          │\n",
       " │ 121946     ┆ 2012-07-01 ┆ 19:22:00 ┆ 62040    ┆ … ┆ 1         ┆ 1         ┆ false     ┆ true     │\n",
       " │            ┆ 00:00:00   ┆          ┆          ┆   ┆           ┆           ┆           ┆          │\n",
       " │ 121948     ┆ 2012-07-01 ┆ 19:53:00 ┆ 62264    ┆ … ┆ 1         ┆ 2         ┆ false     ┆ true     │\n",
       " │            ┆ 00:00:00   ┆          ┆          ┆   ┆           ┆           ┆           ┆          │\n",
       " │ 121950     ┆ 2012-07-01 ┆ 19:39:00 ┆ 62264    ┆ … ┆ 1         ┆ 2         ┆ false     ┆ true     │\n",
       " │            ┆ 00:00:00   ┆          ┆          ┆   ┆           ┆           ┆           ┆          │\n",
       " │ 122945     ┆ null       ┆ 17:38:00 ┆ 62220    ┆ … ┆ 2         ┆ 1         ┆ false     ┆ true     │\n",
       " │ …          ┆ …          ┆ …        ┆ …        ┆ … ┆ …         ┆ …         ┆ …         ┆ …        │\n",
       " │ 12123321   ┆ null       ┆ 00:55:00 ┆ 62264    ┆ … ┆ 2         ┆ 3         ┆ false     ┆ true     │\n",
       " │ 12123322   ┆ null       ┆ 01:07:00 ┆ 62257    ┆ … ┆ 2         ┆ 3         ┆ false     ┆ true     │\n",
       " │ 12123323   ┆ null       ┆ 22:18:00 ┆ 62264    ┆ … ┆ 1         ┆ 3         ┆ false     ┆ true     │\n",
       " │ 12123324   ┆ null       ┆ 20:28:00 ┆ 62255    ┆ … ┆ 0         ┆ 3         ┆ false     ┆ true     │\n",
       " │ 12123325   ┆ null       ┆ 15:55:00 ┆ 62264    ┆ … ┆ 0         ┆ 1         ┆ false     ┆ true     │\n",
       " └────────────┴────────────┴──────────┴──────────┴───┴───────────┴───────────┴───────────┴──────────┘,\n",
       " 13440: shape: (12_221, 31)\n",
       " ┌────────────┬────────────┬──────────┬──────────┬───┬───────────┬───────────┬───────────┬──────────┐\n",
       " │ raw_row_nu ┆ date       ┆ time     ┆ location ┆ … ┆ raw_TypeO ┆ raw_Resul ┆ locationH ┆ ValidZip │\n",
       " │ mber       ┆ ---        ┆ ---      ┆ ---      ┆   ┆ fMovingVi ┆ tOfStop   ┆ y         ┆ ---      │\n",
       " │ ---        ┆ datetime[μ ┆ time     ┆ i64      ┆   ┆ olation   ┆ ---       ┆ ---       ┆ bool     │\n",
       " │ i64        ┆ s]         ┆          ┆          ┆   ┆ ---       ┆ i64       ┆ bool      ┆          │\n",
       " │            ┆            ┆          ┆          ┆   ┆ i64       ┆           ┆           ┆          │\n",
       " ╞════════════╪════════════╪══════════╪══════════╪═══╪═══════════╪═══════════╪═══════════╪══════════╡\n",
       " │ 172908     ┆ 2012-10-01 ┆ 09:51:00 ┆ 60914    ┆ … ┆ 0         ┆ 2         ┆ false     ┆ true     │\n",
       " │            ┆ 00:00:00   ┆          ┆          ┆   ┆           ┆           ┆           ┆          │\n",
       " │ 172909     ┆ 2012-11-01 ┆ 00:28:00 ┆ 60901    ┆ … ┆ 0         ┆ 1         ┆ false     ┆ true     │\n",
       " │            ┆ 00:00:00   ┆          ┆          ┆   ┆           ┆           ┆           ┆          │\n",
       " │ 172910     ┆ 2012-11-01 ┆ 23:45:00 ┆ 60901    ┆ … ┆ 4         ┆ 2         ┆ false     ┆ true     │\n",
       " │            ┆ 00:00:00   ┆          ┆          ┆   ┆           ┆           ┆           ┆          │\n",
       " │ 172911     ┆ 2012-11-01 ┆ 21:13:00 ┆ 60922    ┆ … ┆ 0         ┆ 2         ┆ false     ┆ true     │\n",
       " │            ┆ 00:00:00   ┆          ┆          ┆   ┆           ┆           ┆           ┆          │\n",
       " │ 172912     ┆ 2012-12-01 ┆ 00:27:00 ┆ 60901    ┆ … ┆ 4         ┆ 1         ┆ false     ┆ true     │\n",
       " │            ┆ 00:00:00   ┆          ┆          ┆   ┆           ┆           ┆           ┆          │\n",
       " │ …          ┆ …          ┆ …        ┆ …        ┆ … ┆ …         ┆ …         ┆ …         ┆ …        │\n",
       " │ 11832847   ┆ null       ┆ 01:06:00 ┆ 60901    ┆ … ┆ 0         ┆ 2         ┆ false     ┆ true     │\n",
       " │ 11832848   ┆ null       ┆ 01:54:00 ┆ 60901    ┆ … ┆ 0         ┆ 2         ┆ false     ┆ true     │\n",
       " │ 11832849   ┆ null       ┆ 04:21:00 ┆ 60901    ┆ … ┆ 0         ┆ 1         ┆ false     ┆ true     │\n",
       " │ 11832850   ┆ null       ┆ 10:38:00 ┆ 60901    ┆ … ┆ 1         ┆ 1         ┆ false     ┆ true     │\n",
       " │ 11832851   ┆ null       ┆ 12:41:00 ┆ 60901    ┆ … ┆ 1         ┆ 1         ┆ false     ┆ true     │\n",
       " └────────────┴────────────┴──────────┴──────────┴───┴───────────┴───────────┴───────────┴──────────┘,\n",
       " 13223: shape: (13_245, 31)\n",
       " ┌────────────┬────────────┬──────────┬──────────┬───┬───────────┬───────────┬───────────┬──────────┐\n",
       " │ raw_row_nu ┆ date       ┆ time     ┆ location ┆ … ┆ raw_TypeO ┆ raw_Resul ┆ locationH ┆ ValidZip │\n",
       " │ mber       ┆ ---        ┆ ---      ┆ ---      ┆   ┆ fMovingVi ┆ tOfStop   ┆ y         ┆ ---      │\n",
       " │ ---        ┆ datetime[μ ┆ time     ┆ i64      ┆   ┆ olation   ┆ ---       ┆ ---       ┆ bool     │\n",
       " │ i64        ┆ s]         ┆          ┆          ┆   ┆ ---       ┆ i64       ┆ bool      ┆          │\n",
       " │            ┆            ┆          ┆          ┆   ┆ i64       ┆           ┆           ┆          │\n",
       " ╞════════════╪════════════╪══════════╪══════════╪═══╪═══════════╪═══════════╪═══════════╪══════════╡\n",
       " │ 1003744    ┆ null       ┆ 17:00:00 ┆ 61353    ┆ … ┆ 0         ┆ 3         ┆ false     ┆ true     │\n",
       " │ 1003745    ┆ null       ┆ 18:14:00 ┆ 60178    ┆ … ┆ 4         ┆ 1         ┆ false     ┆ true     │\n",
       " │ 1003746    ┆ null       ┆ 18:00:00 ┆ 60115    ┆ … ┆ 0         ┆ 1         ┆ false     ┆ true     │\n",
       " │ 1003747    ┆ null       ┆ 21:22:00 ┆ 60615    ┆ … ┆ 0         ┆ 3         ┆ false     ┆ true     │\n",
       " │ 1003748    ┆ null       ┆ 20:45:00 ┆ 60115    ┆ … ┆ 0         ┆ 1         ┆ false     ┆ true     │\n",
       " │ …          ┆ …          ┆ …        ┆ …        ┆ … ┆ …         ┆ …         ┆ …         ┆ …        │\n",
       " │ 11135814   ┆ null       ┆ 12:40:00 ┆ 60147    ┆ … ┆ 1         ┆ 1         ┆ false     ┆ true     │\n",
       " │ 11135815   ┆ null       ┆ 09:22:00 ┆ 60115    ┆ … ┆ 0         ┆ 1         ┆ false     ┆ true     │\n",
       " │ 11135816   ┆ null       ┆ 11:24:00 ┆ 60115    ┆ … ┆ 1         ┆ 1         ┆ false     ┆ true     │\n",
       " │ 11135817   ┆ null       ┆ 15:47:00 ┆ 60115    ┆ … ┆ 6         ┆ 1         ┆ false     ┆ true     │\n",
       " │ 11135818   ┆ null       ┆ 12:51:00 ┆ 60050    ┆ … ┆ 6         ┆ 1         ┆ false     ┆ true     │\n",
       " └────────────┴────────────┴──────────┴──────────┴───┴───────────┴───────────┴───────────┴──────────┘,\n",
       " 13655: shape: (18, 31)\n",
       " ┌────────────┬────────────┬──────────┬──────────┬───┬───────────┬───────────┬───────────┬──────────┐\n",
       " │ raw_row_nu ┆ date       ┆ time     ┆ location ┆ … ┆ raw_TypeO ┆ raw_Resul ┆ locationH ┆ ValidZip │\n",
       " │ mber       ┆ ---        ┆ ---      ┆ ---      ┆   ┆ fMovingVi ┆ tOfStop   ┆ y         ┆ ---      │\n",
       " │ ---        ┆ datetime[μ ┆ time     ┆ i64      ┆   ┆ olation   ┆ ---       ┆ ---       ┆ bool     │\n",
       " │ i64        ┆ s]         ┆          ┆          ┆   ┆ ---       ┆ i64       ┆ bool      ┆          │\n",
       " │            ┆            ┆          ┆          ┆   ┆ i64       ┆           ┆           ┆          │\n",
       " ╞════════════╪════════════╪══════════╪══════════╪═══╪═══════════╪═══════════╪═══════════╪══════════╡\n",
       " │ 11368298   ┆ 2017-01-01 ┆ 08:25:00 ┆ 62707    ┆ … ┆ 1         ┆ 1         ┆ false     ┆ true     │\n",
       " │            ┆ 00:00:00   ┆          ┆          ┆   ┆           ┆           ┆           ┆          │\n",
       " │ 11368299   ┆ 2017-06-01 ┆ 22:59:00 ┆ 62707    ┆ … ┆ 1         ┆ 3         ┆ false     ┆ true     │\n",
       " │            ┆ 00:00:00   ┆          ┆          ┆   ┆           ┆           ┆           ┆          │\n",
       " │ 11368300   ┆ 2017-01-02 ┆ 21:57:00 ┆ 62656    ┆ … ┆ 1         ┆ 3         ┆ false     ┆ true     │\n",
       " │            ┆ 00:00:00   ┆          ┆          ┆   ┆           ┆           ┆           ┆          │\n",
       " │ 11368301   ┆ 2017-07-02 ┆ 18:02:00 ┆ 62704    ┆ … ┆ 1         ┆ 3         ┆ false     ┆ true     │\n",
       " │            ┆ 00:00:00   ┆          ┆          ┆   ┆           ┆           ┆           ┆          │\n",
       " │ 11368302   ┆ 2017-10-04 ┆ 16:38:00 ┆ 62664    ┆ … ┆ 1         ┆ 3         ┆ false     ┆ true     │\n",
       " │            ┆ 00:00:00   ┆          ┆          ┆   ┆           ┆           ┆           ┆          │\n",
       " │ …          ┆ …          ┆ …        ┆ …        ┆ … ┆ …         ┆ …         ┆ …         ┆ …        │\n",
       " │ 11368311   ┆ null       ┆ 18:13:00 ┆ 62675    ┆ … ┆ 4         ┆ 3         ┆ false     ┆ true     │\n",
       " │ 11368312   ┆ 2017-04-10 ┆ 16:42:00 ┆ 62704    ┆ … ┆ 1         ┆ 3         ┆ false     ┆ true     │\n",
       " │            ┆ 00:00:00   ┆          ┆          ┆   ┆           ┆           ┆           ┆          │\n",
       " │ 11368313   ┆ null       ┆ 18:49:00 ┆ 62642    ┆ … ┆ 4         ┆ 3         ┆ false     ┆ true     │\n",
       " │ 11368314   ┆ null       ┆ 21:32:00 ┆ 62704    ┆ … ┆ 1         ┆ 3         ┆ false     ┆ true     │\n",
       " │ 11368315   ┆ null       ┆ 17:42:00 ┆ 62642    ┆ … ┆ 2         ┆ 1         ┆ false     ┆ true     │\n",
       " └────────────┴────────────┴──────────┴──────────┴───┴───────────┴───────────┴───────────┴──────────┘,\n",
       " 13620: shape: (12_901, 31)\n",
       " ┌────────────┬────────────┬──────────┬──────────┬───┬───────────┬───────────┬───────────┬──────────┐\n",
       " │ raw_row_nu ┆ date       ┆ time     ┆ location ┆ … ┆ raw_TypeO ┆ raw_Resul ┆ locationH ┆ ValidZip │\n",
       " │ mber       ┆ ---        ┆ ---      ┆ ---      ┆   ┆ fMovingVi ┆ tOfStop   ┆ y         ┆ ---      │\n",
       " │ ---        ┆ datetime[μ ┆ time     ┆ i64      ┆   ┆ olation   ┆ ---       ┆ ---       ┆ bool     │\n",
       " │ i64        ┆ s]         ┆          ┆          ┆   ┆ ---       ┆ i64       ┆ bool      ┆          │\n",
       " │            ┆            ┆          ┆          ┆   ┆ i64       ┆           ┆           ┆          │\n",
       " ╞════════════╪════════════╪══════════╪══════════╪═══╪═══════════╪═══════════╪═══════════╪══════════╡\n",
       " │ 172241     ┆ 2012-02-01 ┆ 19:54:00 ┆ 62040    ┆ … ┆ 1         ┆ 1         ┆ false     ┆ true     │\n",
       " │            ┆ 00:00:00   ┆          ┆          ┆   ┆           ┆           ┆           ┆          │\n",
       " │ 172242     ┆ 2012-03-01 ┆ 05:34:00 ┆ 62052    ┆ … ┆ 6         ┆ 1         ┆ false     ┆ true     │\n",
       " │            ┆ 00:00:00   ┆          ┆          ┆   ┆           ┆           ┆           ┆          │\n",
       " │ 172243     ┆ 2012-02-01 ┆ 13:29:00 ┆ 62040    ┆ … ┆ 1         ┆ 1         ┆ false     ┆ true     │\n",
       " │            ┆ 00:00:00   ┆          ┆          ┆   ┆           ┆           ┆           ┆          │\n",
       " │ 172244     ┆ 2012-04-01 ┆ 11:17:00 ┆ 62232    ┆ … ┆ 4         ┆ 1         ┆ false     ┆ true     │\n",
       " │            ┆ 00:00:00   ┆          ┆          ┆   ┆           ┆           ┆           ┆          │\n",
       " │ 172245     ┆ 2012-04-01 ┆ 21:03:00 ┆ 62205    ┆ … ┆ 1         ┆ 1         ┆ false     ┆ true     │\n",
       " │            ┆ 00:00:00   ┆          ┆          ┆   ┆           ┆           ┆           ┆          │\n",
       " │ …          ┆ …          ┆ …        ┆ …        ┆ … ┆ …         ┆ …         ┆ …         ┆ …        │\n",
       " │ 11366344   ┆ null       ┆ 15:32:00 ┆ 62025    ┆ … ┆ 4         ┆ 1         ┆ false     ┆ true     │\n",
       " │ 11366345   ┆ null       ┆ 17:15:00 ┆ 62040    ┆ … ┆ 0         ┆ 1         ┆ false     ┆ true     │\n",
       " │ 11366346   ┆ null       ┆ 20:33:00 ┆ 62014    ┆ … ┆ 0         ┆ 1         ┆ false     ┆ true     │\n",
       " │ 11366347   ┆ null       ┆ 21:26:00 ┆ 62095    ┆ … ┆ 1         ┆ 2         ┆ false     ┆ true     │\n",
       " │ 11366348   ┆ null       ┆ 16:16:00 ┆ 62040    ┆ … ┆ 0         ┆ 2         ┆ false     ┆ true     │\n",
       " └────────────┴────────────┴──────────┴──────────┴───┴───────────┴───────────┴───────────┴──────────┘,\n",
       " 13503: shape: (5_844, 31)\n",
       " ┌────────────┬────────────┬──────────┬──────────┬───┬───────────┬───────────┬───────────┬──────────┐\n",
       " │ raw_row_nu ┆ date       ┆ time     ┆ location ┆ … ┆ raw_TypeO ┆ raw_Resul ┆ locationH ┆ ValidZip │\n",
       " │ mber       ┆ ---        ┆ ---      ┆ ---      ┆   ┆ fMovingVi ┆ tOfStop   ┆ y         ┆ ---      │\n",
       " │ ---        ┆ datetime[μ ┆ time     ┆ i64      ┆   ┆ olation   ┆ ---       ┆ ---       ┆ bool     │\n",
       " │ i64        ┆ s]         ┆          ┆          ┆   ┆ ---       ┆ i64       ┆ bool      ┆          │\n",
       " │            ┆            ┆          ┆          ┆   ┆ i64       ┆           ┆           ┆          │\n",
       " ╞════════════╪════════════╪══════════╪══════════╪═══╪═══════════╪═══════════╪═══════════╪══════════╡\n",
       " │ 236201     ┆ null       ┆ 21:25:00 ┆ 61364    ┆ … ┆ 6         ┆ 3         ┆ false     ┆ true     │\n",
       " │ 236203     ┆ null       ┆ 19:45:00 ┆ 61364    ┆ … ┆ 6         ┆ 3         ┆ false     ┆ true     │\n",
       " │ 236205     ┆ null       ┆ 21:30:00 ┆ 61364    ┆ … ┆ 6         ┆ 3         ┆ false     ┆ true     │\n",
       " │ 236208     ┆ 2012-05-01 ┆ 17:18:00 ┆ 60447    ┆ … ┆ 6         ┆ 3         ┆ false     ┆ true     │\n",
       " │            ┆ 00:00:00   ┆          ┆          ┆   ┆           ┆           ┆           ┆          │\n",
       " │ 236221     ┆ null       ┆ 01:35:00 ┆ 61364    ┆ … ┆ 4         ┆ 1         ┆ false     ┆ true     │\n",
       " │ …          ┆ …          ┆ …        ┆ …        ┆ … ┆ …         ┆ …         ┆ …         ┆ …        │\n",
       " │ 12562784   ┆ null       ┆ 22:35:00 ┆ 61364    ┆ … ┆ 0         ┆ 3         ┆ false     ┆ true     │\n",
       " │ 12562785   ┆ null       ┆ 23:26:00 ┆ 61364    ┆ … ┆ 0         ┆ 3         ┆ false     ┆ true     │\n",
       " │ 12562786   ┆ null       ┆ 23:43:00 ┆ 61364    ┆ … ┆ 0         ┆ 1         ┆ false     ┆ true     │\n",
       " │ 12562787   ┆ null       ┆ 15:37:00 ┆ 61364    ┆ … ┆ 1         ┆ 1         ┆ false     ┆ true     │\n",
       " │ 12562788   ┆ null       ┆ 08:26:00 ┆ 61364    ┆ … ┆ 0         ┆ 1         ┆ false     ┆ true     │\n",
       " └────────────┴────────────┴──────────┴──────────┴───┴───────────┴───────────┴───────────┴──────────┘,\n",
       " 13404: shape: (3_291, 31)\n",
       " ┌────────────┬────────────┬──────────┬──────────┬───┬───────────┬───────────┬───────────┬──────────┐\n",
       " │ raw_row_nu ┆ date       ┆ time     ┆ location ┆ … ┆ raw_TypeO ┆ raw_Resul ┆ locationH ┆ ValidZip │\n",
       " │ mber       ┆ ---        ┆ ---      ┆ ---      ┆   ┆ fMovingVi ┆ tOfStop   ┆ y         ┆ ---      │\n",
       " │ ---        ┆ datetime[μ ┆ time     ┆ i64      ┆   ┆ olation   ┆ ---       ┆ ---       ┆ bool     │\n",
       " │ i64        ┆ s]         ┆          ┆          ┆   ┆ ---       ┆ i64       ┆ bool      ┆          │\n",
       " │            ┆            ┆          ┆          ┆   ┆ i64       ┆           ┆           ┆          │\n",
       " ╞════════════╪════════════╪══════════╪══════════╪═══╪═══════════╪═══════════╪═══════════╪══════════╡\n",
       " │ 155515     ┆ null       ┆ 23:00:00 ┆ 60047    ┆ … ┆ 1         ┆ 1         ┆ false     ┆ true     │\n",
       " │ 155516     ┆ null       ┆ 12:10:00 ┆ 61036    ┆ … ┆ 3         ┆ 2         ┆ false     ┆ true     │\n",
       " │ 155517     ┆ null       ┆ 11:22:00 ┆ 60014    ┆ … ┆ 1         ┆ 2         ┆ false     ┆ true     │\n",
       " │ 155518     ┆ null       ┆ 21:05:00 ┆ 60941    ┆ … ┆ 1         ┆ 1         ┆ false     ┆ true     │\n",
       " │ 155519     ┆ null       ┆ 19:50:00 ┆ 52001    ┆ … ┆ 1         ┆ 1         ┆ false     ┆ true     │\n",
       " │ …          ┆ …          ┆ …        ┆ …        ┆ … ┆ …         ┆ …         ┆ …         ┆ …        │\n",
       " │ 11324929   ┆ null       ┆ 18:44:00 ┆ 60134    ┆ … ┆ 0         ┆ 1         ┆ false     ┆ true     │\n",
       " │ 11324930   ┆ null       ┆ 00:05:00 ┆ 50665    ┆ … ┆ 1         ┆ 1         ┆ false     ┆ true     │\n",
       " │ 11324931   ┆ null       ┆ 23:45:00 ┆ 52001    ┆ … ┆ 4         ┆ 1         ┆ false     ┆ true     │\n",
       " │ 11324932   ┆ null       ┆ 06:15:00 ┆ 61036    ┆ … ┆ 1         ┆ 1         ┆ false     ┆ true     │\n",
       " │ 11324933   ┆ null       ┆ 23:06:00 ┆ 52002    ┆ … ┆ 0         ┆ 2         ┆ false     ┆ true     │\n",
       " └────────────┴────────────┴──────────┴──────────┴───┴───────────┴───────────┴───────────┴──────────┘,\n",
       " 12998: shape: (4_479, 31)\n",
       " ┌────────────┬────────────┬──────────┬──────────┬───┬───────────┬───────────┬───────────┬──────────┐\n",
       " │ raw_row_nu ┆ date       ┆ time     ┆ location ┆ … ┆ raw_TypeO ┆ raw_Resul ┆ locationH ┆ ValidZip │\n",
       " │ mber       ┆ ---        ┆ ---      ┆ ---      ┆   ┆ fMovingVi ┆ tOfStop   ┆ y         ┆ ---      │\n",
       " │ ---        ┆ datetime[μ ┆ time     ┆ i64      ┆   ┆ olation   ┆ ---       ┆ ---       ┆ bool     │\n",
       " │ i64        ┆ s]         ┆          ┆          ┆   ┆ ---       ┆ i64       ┆ bool      ┆          │\n",
       " │            ┆            ┆          ┆          ┆   ┆ i64       ┆           ┆           ┆          │\n",
       " ╞════════════╪════════════╪══════════╪══════════╪═══╪═══════════╪═══════════╪═══════════╪══════════╡\n",
       " │ 190667     ┆ null       ┆ 23:25:00 ┆ 60455    ┆ … ┆ 6         ┆ 1         ┆ false     ┆ true     │\n",
       " │ 197745     ┆ 2012-10-01 ┆ 20:30:00 ┆ 60827    ┆ … ┆ 0         ┆ 3         ┆ false     ┆ true     │\n",
       " │            ┆ 00:00:00   ┆          ┆          ┆   ┆           ┆           ┆           ┆          │\n",
       " │ 197746     ┆ 2012-10-01 ┆ 19:49:00 ┆ 60643    ┆ … ┆ 4         ┆ 1         ┆ false     ┆ true     │\n",
       " │            ┆ 00:00:00   ┆          ┆          ┆   ┆           ┆           ┆           ┆          │\n",
       " │ 197747     ┆ 2012-05-01 ┆ 22:28:00 ┆ 60827    ┆ … ┆ 0         ┆ 1         ┆ false     ┆ true     │\n",
       " │            ┆ 00:00:00   ┆          ┆          ┆   ┆           ┆           ┆           ┆          │\n",
       " │ 197749     ┆ null       ┆ 23:25:00 ┆ 60455    ┆ … ┆ 0         ┆ 1         ┆ false     ┆ true     │\n",
       " │ …          ┆ …          ┆ …        ┆ …        ┆ … ┆ …         ┆ …         ┆ …         ┆ …        │\n",
       " │ 12369730   ┆ null       ┆ 19:50:00 ┆ 60643    ┆ … ┆ 0         ┆ 1         ┆ false     ┆ true     │\n",
       " │ 12369731   ┆ null       ┆ 20:10:00 ┆ 60426    ┆ … ┆ 0         ┆ 1         ┆ false     ┆ true     │\n",
       " │ 12369732   ┆ null       ┆ 23:15:00 ┆ 60419    ┆ … ┆ 0         ┆ 1         ┆ false     ┆ true     │\n",
       " │ 12369733   ┆ null       ┆ 07:21:00 ┆ 60409    ┆ … ┆ 4         ┆ 1         ┆ false     ┆ true     │\n",
       " │ 12369734   ┆ null       ┆ 16:05:00 ┆ 60458    ┆ … ┆ 2         ┆ 3         ┆ false     ┆ true     │\n",
       " └────────────┴────────────┴──────────┴──────────┴───┴───────────┴───────────┴───────────┴──────────┘,\n",
       " 13551: shape: (5_771, 31)\n",
       " ┌────────────┬────────────┬──────────┬──────────┬───┬───────────┬───────────┬───────────┬──────────┐\n",
       " │ raw_row_nu ┆ date       ┆ time     ┆ location ┆ … ┆ raw_TypeO ┆ raw_Resul ┆ locationH ┆ ValidZip │\n",
       " │ mber       ┆ ---        ┆ ---      ┆ ---      ┆   ┆ fMovingVi ┆ tOfStop   ┆ y         ┆ ---      │\n",
       " │ ---        ┆ datetime[μ ┆ time     ┆ i64      ┆   ┆ olation   ┆ ---       ┆ ---       ┆ bool     │\n",
       " │ i64        ┆ s]         ┆          ┆          ┆   ┆ ---       ┆ i64       ┆ bool      ┆          │\n",
       " │            ┆            ┆          ┆          ┆   ┆ i64       ┆           ┆           ┆          │\n",
       " ╞════════════╪════════════╪══════════╪══════════╪═══╪═══════════╪═══════════╪═══════════╪══════════╡\n",
       " │ 221897     ┆ 2012-06-01 ┆ 19:13:00 ┆ 60012    ┆ … ┆ 2         ┆ 2         ┆ false     ┆ true     │\n",
       " │            ┆ 00:00:00   ┆          ┆          ┆   ┆           ┆           ┆           ┆          │\n",
       " │ 221898     ┆ 2012-06-01 ┆ 20:26:00 ┆ 60046    ┆ … ┆ 1         ┆ 1         ┆ false     ┆ true     │\n",
       " │            ┆ 00:00:00   ┆          ┆          ┆   ┆           ┆           ┆           ┆          │\n",
       " │ 221899     ┆ 2012-06-01 ┆ 21:01:00 ┆ 60089    ┆ … ┆ 1         ┆ 1         ┆ false     ┆ true     │\n",
       " │            ┆ 00:00:00   ┆          ┆          ┆   ┆           ┆           ┆           ┆          │\n",
       " │ 221900     ┆ 2012-07-01 ┆ 19:39:00 ┆ 30605    ┆ … ┆ 1         ┆ 2         ┆ false     ┆ true     │\n",
       " │            ┆ 00:00:00   ┆          ┆          ┆   ┆           ┆           ┆           ┆          │\n",
       " │ 221901     ┆ 2012-07-01 ┆ 21:10:00 ┆ 60014    ┆ … ┆ 1         ┆ 2         ┆ false     ┆ true     │\n",
       " │            ┆ 00:00:00   ┆          ┆          ┆   ┆           ┆           ┆           ┆          │\n",
       " │ …          ┆ …          ┆ …        ┆ …        ┆ … ┆ …         ┆ …         ┆ …         ┆ …        │\n",
       " │ 12207497   ┆ null       ┆ 19:21:00 ┆ 60136    ┆ … ┆ 6         ┆ 1         ┆ false     ┆ true     │\n",
       " │ 12207498   ┆ null       ┆ 23:04:00 ┆ 60013    ┆ … ┆ 4         ┆ 1         ┆ false     ┆ true     │\n",
       " │ 12207499   ┆ null       ┆ 18:30:00 ┆ 60041    ┆ … ┆ 1         ┆ 1         ┆ false     ┆ true     │\n",
       " │ 12207500   ┆ null       ┆ 18:31:00 ┆ 60041    ┆ … ┆ 1         ┆ 1         ┆ false     ┆ true     │\n",
       " │ 12207501   ┆ null       ┆ 13:01:00 ┆ 60042    ┆ … ┆ 1         ┆ 1         ┆ false     ┆ true     │\n",
       " └────────────┴────────────┴──────────┴──────────┴───┴───────────┴───────────┴───────────┴──────────┘,\n",
       " 14150: shape: (68, 31)\n",
       " ┌────────────┬────────────┬──────────┬──────────┬───┬───────────┬───────────┬───────────┬──────────┐\n",
       " │ raw_row_nu ┆ date       ┆ time     ┆ location ┆ … ┆ raw_TypeO ┆ raw_Resul ┆ locationH ┆ ValidZip │\n",
       " │ mber       ┆ ---        ┆ ---      ┆ ---      ┆   ┆ fMovingVi ┆ tOfStop   ┆ y         ┆ ---      │\n",
       " │ ---        ┆ datetime[μ ┆ time     ┆ i64      ┆   ┆ olation   ┆ ---       ┆ ---       ┆ bool     │\n",
       " │ i64        ┆ s]         ┆          ┆          ┆   ┆ ---       ┆ i64       ┆ bool      ┆          │\n",
       " │            ┆            ┆          ┆          ┆   ┆ i64       ┆           ┆           ┆          │\n",
       " ╞════════════╪════════════╪══════════╪══════════╪═══╪═══════════╪═══════════╪═══════════╪══════════╡\n",
       " │ 9024863    ┆ 2016-09-11 ┆ 11:31:00 ┆ 62533    ┆ … ┆ 1         ┆ 3         ┆ false     ┆ true     │\n",
       " │            ┆ 00:00:00   ┆          ┆          ┆   ┆           ┆           ┆           ┆          │\n",
       " │ 9024864    ┆ 2016-10-08 ┆ 17:43:00 ┆ 62560    ┆ … ┆ 0         ┆ 3         ┆ false     ┆ true     │\n",
       " │            ┆ 00:00:00   ┆          ┆          ┆   ┆           ┆           ┆           ┆          │\n",
       " │ 9024865    ┆ 2016-12-10 ┆ 13:43:00 ┆ 62533    ┆ … ┆ 1         ┆ 1         ┆ false     ┆ true     │\n",
       " │            ┆ 00:00:00   ┆          ┆          ┆   ┆           ┆           ┆           ┆          │\n",
       " │ 9024866    ┆ null       ┆ 12:04:00 ┆ 62563    ┆ … ┆ 1         ┆ 1         ┆ false     ┆ true     │\n",
       " │ 9024867    ┆ 2016-10-08 ┆ 18:52:00 ┆ 62704    ┆ … ┆ 1         ┆ 1         ┆ false     ┆ true     │\n",
       " │            ┆ 00:00:00   ┆          ┆          ┆   ┆           ┆           ┆           ┆          │\n",
       " │ …          ┆ …          ┆ …        ┆ …        ┆ … ┆ …         ┆ …         ┆ …         ┆ …        │\n",
       " │ 11295735   ┆ 2017-06-09 ┆ 11:19:00 ┆ 62626    ┆ … ┆ 1         ┆ 1         ┆ false     ┆ true     │\n",
       " │            ┆ 00:00:00   ┆          ┆          ┆   ┆           ┆           ┆           ┆          │\n",
       " │ 11295736   ┆ 2017-06-09 ┆ 12:48:00 ┆ 62640    ┆ … ┆ 1         ┆ 3         ┆ false     ┆ true     │\n",
       " │            ┆ 00:00:00   ┆          ┆          ┆   ┆           ┆           ┆           ┆          │\n",
       " │ 11295737   ┆ 2017-08-11 ┆ 10:35:00 ┆ 62629    ┆ … ┆ 1         ┆ 1         ┆ false     ┆ true     │\n",
       " │            ┆ 00:00:00   ┆          ┆          ┆   ┆           ┆           ┆           ┆          │\n",
       " │ 11295738   ┆ null       ┆ 11:52:00 ┆ 62640    ┆ … ┆ 1         ┆ 1         ┆ false     ┆ true     │\n",
       " │ 11295739   ┆ null       ┆ 08:35:00 ┆ 62450    ┆ … ┆ 1         ┆ 3         ┆ false     ┆ true     │\n",
       " └────────────┴────────────┴──────────┴──────────┴───┴───────────┴───────────┴───────────┴──────────┘}"
      ]
     },
     "execution_count": 53,
     "metadata": {},
     "output_type": "execute_result"
    }
   ],
   "execution_count": 53
  },
  {
   "metadata": {
    "ExecuteTime": {
     "end_time": "2024-11-19T17:37:39.947002Z",
     "start_time": "2024-11-19T17:37:39.930177Z"
    }
   },
   "cell_type": "code",
   "source": [
    "depermentHitRates = {}\n",
    "\n",
    "for id, df in deparmentsDataframe.items():\n",
    "    counts = df.select(\n",
    "        pl.col(\"subject_race\").value_counts().alias(\"counts\")\n",
    "    )\n",
    "    \n",
    "    valuescount = counts.unnest(\"counts\")\n",
    "    \n",
    "    total = valuescount[\"count\"].sum()\n",
    "    \n",
    "    dictHits = {}\n",
    "    \n",
    "    for x in valuescount.iter_rows():\n",
    "        tempval = x[0]\n",
    "        count = x[1]\n",
    "        \n",
    "        dictHits[tempval] = round(proportion(count, total), 5)\n",
    "    \n",
    "    depermentHitRates[id] = dictHits\n",
    "# Print the final hit rates\n",
    "print(depermentHitRates)"
   ],
   "id": "4c66ea594ade96e3",
   "outputs": [
    {
     "name": "stdout",
     "output_type": "stream",
     "text": [
      "{13777: {'other': 0.0004, 'hispanic': 0.01452, 'asian/pacific islander': 0.00927, 'black': 0.07944, 'white': 0.89637}, 13440: {'asian/pacific islander': 0.00655, 'other': 0.00131, 'hispanic': 0.11497, 'white': 0.45266, 'black': 0.42452}, 13223: {'black': 0.1057, 'other': 0.00106, 'hispanic': 0.0983, 'asian/pacific islander': 0.0188, 'white': 0.77614}, 13655: {'white': 0.83333, 'black': 0.16667}, 13620: {'asian/pacific islander': 0.00574, 'black': 0.1989, 'white': 0.75583, 'other': 0.00093, 'hispanic': 0.0386}, 13503: {'white': 0.80784, 'asian/pacific islander': 0.00257, 'hispanic': 0.08504, 'other': 0.00222, 'black': 0.10233}, 13404: {'white': 0.90702, 'black': 0.0392, 'other': 0.00061, 'hispanic': 0.04224, 'asian/pacific islander': 0.01094}, 12998: {'hispanic': 0.01674, 'asian/pacific islander': 0.00179, 'black': 0.9491, 'white': 0.03215, 'other': 0.00022}, 13551: {'black': 0.0149, 'other': 0.00052, 'asian/pacific islander': 0.01646, 'hispanic': 0.07018, 'white': 0.89794}, 14150: {'white': 0.98529, 'black': 0.01471}}\n"
     ]
    }
   ],
   "execution_count": 101
  },
  {
   "metadata": {
    "ExecuteTime": {
     "end_time": "2024-11-19T17:37:42.514744Z",
     "start_time": "2024-11-19T17:37:42.502751Z"
    }
   },
   "cell_type": "code",
   "source": [
    "for key, value in depermentHitRates.items():\n",
    "    print(f\"{key}: {value}\")"
   ],
   "id": "4af2f162b711c875",
   "outputs": [
    {
     "name": "stdout",
     "output_type": "stream",
     "text": [
      "13777: {'other': 0.0004, 'hispanic': 0.01452, 'asian/pacific islander': 0.00927, 'black': 0.07944, 'white': 0.89637}\n",
      "13440: {'asian/pacific islander': 0.00655, 'other': 0.00131, 'hispanic': 0.11497, 'white': 0.45266, 'black': 0.42452}\n",
      "13223: {'black': 0.1057, 'other': 0.00106, 'hispanic': 0.0983, 'asian/pacific islander': 0.0188, 'white': 0.77614}\n",
      "13655: {'white': 0.83333, 'black': 0.16667}\n",
      "13620: {'asian/pacific islander': 0.00574, 'black': 0.1989, 'white': 0.75583, 'other': 0.00093, 'hispanic': 0.0386}\n",
      "13503: {'white': 0.80784, 'asian/pacific islander': 0.00257, 'hispanic': 0.08504, 'other': 0.00222, 'black': 0.10233}\n",
      "13404: {'white': 0.90702, 'black': 0.0392, 'other': 0.00061, 'hispanic': 0.04224, 'asian/pacific islander': 0.01094}\n",
      "12998: {'hispanic': 0.01674, 'asian/pacific islander': 0.00179, 'black': 0.9491, 'white': 0.03215, 'other': 0.00022}\n",
      "13551: {'black': 0.0149, 'other': 0.00052, 'asian/pacific islander': 0.01646, 'hispanic': 0.07018, 'white': 0.89794}\n",
      "14150: {'white': 0.98529, 'black': 0.01471}\n"
     ]
    }
   ],
   "execution_count": 102
  },
  {
   "metadata": {},
   "cell_type": "markdown",
   "source": "<h2> PLOTTING HAHAHAH </h2>",
   "id": "47c3d4e2e5bc3f46"
  },
  {
   "metadata": {
    "ExecuteTime": {
     "end_time": "2024-11-19T17:47:55.167824Z",
     "start_time": "2024-11-19T17:47:55.028586Z"
    }
   },
   "cell_type": "code",
   "source": "sns.countplot(depermentHitRates.keys())",
   "id": "48386ecd70394bdd",
   "outputs": [
    {
     "data": {
      "text/plain": [
       "<Axes: ylabel='count'>"
      ]
     },
     "execution_count": 107,
     "metadata": {},
     "output_type": "execute_result"
    },
    {
     "data": {
      "text/plain": [
       "<Figure size 640x480 with 1 Axes>"
      ],
      "image/png": "[encoded data removed]"
     },
     "metadata": {},
     "output_type": "display_data"
    }
   ],
   "execution_count": 107
  },
  {
   "metadata": {
    "ExecuteTime": {
     "end_time": "2024-11-19T17:53:24.095567Z",
     "start_time": "2024-11-19T17:53:23.684677Z"
    }
   },
   "cell_type": "code",
   "source": [
    "flat_data = []\n",
    "\n",
    "for dept_id, races in depermentHitRates.items():\n",
    "    for race, proportion in races.items():\n",
    "        flat_data.append({\"department_id\": dept_id, \"subject_race\": race, \"proportion\": proportion})\n",
    "\n",
    "NewDF = pl.to_pan(flat_data)\n",
    "\n",
    "sns.countplot(NewDF, x=pl.col(\"proportion\"), y=pl.col(\"subject_race\"))"
   ],
   "id": "2dfe71aee42a390",
   "outputs": [
    {
     "ename": "TypeError",
     "evalue": "Cannot pass values for both `x` and `y`.",
     "output_type": "error",
     "traceback": [
      "\u001B[1;31m---------------------------------------------------------------------------\u001B[0m",
      "\u001B[1;31mTypeError\u001B[0m                                 Traceback (most recent call last)",
      "Cell \u001B[1;32mIn[111], line 9\u001B[0m\n\u001B[0;32m      5\u001B[0m         flat_data\u001B[38;5;241m.\u001B[39mappend({\u001B[38;5;124m\"\u001B[39m\u001B[38;5;124mdepartment_id\u001B[39m\u001B[38;5;124m\"\u001B[39m: dept_id, \u001B[38;5;124m\"\u001B[39m\u001B[38;5;124msubject_race\u001B[39m\u001B[38;5;124m\"\u001B[39m: race, \u001B[38;5;124m\"\u001B[39m\u001B[38;5;124mproportion\u001B[39m\u001B[38;5;124m\"\u001B[39m: proportion})\n\u001B[0;32m      7\u001B[0m NewDF \u001B[38;5;241m=\u001B[39m pl\u001B[38;5;241m.\u001B[39mDataFrame(flat_data)\n\u001B[1;32m----> 9\u001B[0m \u001B[43msns\u001B[49m\u001B[38;5;241;43m.\u001B[39;49m\u001B[43mcountplot\u001B[49m\u001B[43m(\u001B[49m\u001B[43mNewDF\u001B[49m\u001B[43m,\u001B[49m\u001B[43m \u001B[49m\u001B[43mx\u001B[49m\u001B[38;5;241;43m=\u001B[39;49m\u001B[43mpl\u001B[49m\u001B[38;5;241;43m.\u001B[39;49m\u001B[43mcol\u001B[49m\u001B[43m(\u001B[49m\u001B[38;5;124;43m\"\u001B[39;49m\u001B[38;5;124;43mproportion\u001B[39;49m\u001B[38;5;124;43m\"\u001B[39;49m\u001B[43m)\u001B[49m\u001B[43m,\u001B[49m\u001B[43m \u001B[49m\u001B[43my\u001B[49m\u001B[38;5;241;43m=\u001B[39;49m\u001B[43mpl\u001B[49m\u001B[38;5;241;43m.\u001B[39;49m\u001B[43mcol\u001B[49m\u001B[43m(\u001B[49m\u001B[38;5;124;43m\"\u001B[39;49m\u001B[38;5;124;43msubject_race\u001B[39;49m\u001B[38;5;124;43m\"\u001B[39;49m\u001B[43m)\u001B[49m\u001B[43m)\u001B[49m\n",
      "File \u001B[1;32m~\\PycharmProjects\\nice\\.venv\\Lib\\site-packages\\seaborn\\categorical.py:2629\u001B[0m, in \u001B[0;36mcountplot\u001B[1;34m(data, x, y, hue, order, hue_order, orient, color, palette, saturation, fill, hue_norm, stat, width, dodge, gap, log_scale, native_scale, formatter, legend, ax, **kwargs)\u001B[0m\n\u001B[0;32m   2627\u001B[0m     y \u001B[38;5;241m=\u001B[39m \u001B[38;5;241m1\u001B[39m \u001B[38;5;28;01mif\u001B[39;00m \u001B[38;5;28mlist\u001B[39m(x) \u001B[38;5;28;01melse\u001B[39;00m \u001B[38;5;28;01mNone\u001B[39;00m\n\u001B[0;32m   2628\u001B[0m \u001B[38;5;28;01melif\u001B[39;00m x \u001B[38;5;129;01mis\u001B[39;00m \u001B[38;5;129;01mnot\u001B[39;00m \u001B[38;5;28;01mNone\u001B[39;00m \u001B[38;5;129;01mand\u001B[39;00m y \u001B[38;5;129;01mis\u001B[39;00m \u001B[38;5;129;01mnot\u001B[39;00m \u001B[38;5;28;01mNone\u001B[39;00m:\n\u001B[1;32m-> 2629\u001B[0m     \u001B[38;5;28;01mraise\u001B[39;00m \u001B[38;5;167;01mTypeError\u001B[39;00m(\u001B[38;5;124m\"\u001B[39m\u001B[38;5;124mCannot pass values for both `x` and `y`.\u001B[39m\u001B[38;5;124m\"\u001B[39m)\n\u001B[0;32m   2631\u001B[0m p \u001B[38;5;241m=\u001B[39m _CategoricalAggPlotter(\n\u001B[0;32m   2632\u001B[0m     data\u001B[38;5;241m=\u001B[39mdata,\n\u001B[0;32m   2633\u001B[0m     variables\u001B[38;5;241m=\u001B[39m\u001B[38;5;28mdict\u001B[39m(x\u001B[38;5;241m=\u001B[39mx, y\u001B[38;5;241m=\u001B[39my, hue\u001B[38;5;241m=\u001B[39mhue),\n\u001B[1;32m   (...)\u001B[0m\n\u001B[0;32m   2637\u001B[0m     legend\u001B[38;5;241m=\u001B[39mlegend,\n\u001B[0;32m   2638\u001B[0m )\n\u001B[0;32m   2640\u001B[0m \u001B[38;5;28;01mif\u001B[39;00m ax \u001B[38;5;129;01mis\u001B[39;00m \u001B[38;5;28;01mNone\u001B[39;00m:\n",
      "\u001B[1;31mTypeError\u001B[0m: Cannot pass values for both `x` and `y`."
     ]
    }
   ],
   "execution_count": 111
  },
  {
   "metadata": {},
   "cell_type": "code",
   "outputs": [],
   "execution_count": null,
   "source": "",
   "id": "572245af7ddca144"
  }
 ],
 "metadata": {
  "kernelspec": {
   "display_name": "Python 3",
   "language": "python",
   "name": "python3"
  },
  "language_info": {
   "codemirror_mode": {
    "name": "ipython",
    "version": 2
   },
   "file_extension": ".py",
   "mimetype": "text/x-python",
   "name": "python",
   "nbconvert_exporter": "python",
   "pygments_lexer": "ipython2",
   "version": "2.7.6"
  }
 },
 "nbformat": 4,
 "nbformat_minor": 5
}
